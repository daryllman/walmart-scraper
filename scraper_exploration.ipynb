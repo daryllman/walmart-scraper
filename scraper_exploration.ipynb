{
  "nbformat": 4,
  "nbformat_minor": 0,
  "metadata": {
    "colab": {
      "name": "scraper-exploration.ipynb",
      "provenance": [],
      "collapsed_sections": [],
      "authorship_tag": "ABX9TyNfK5VE57OmcJ6ejmElsCEN",
      "include_colab_link": true
    },
    "kernelspec": {
      "name": "python3",
      "display_name": "Python 3"
    }
  },
  "cells": [
    {
      "cell_type": "markdown",
      "metadata": {
        "id": "view-in-github",
        "colab_type": "text"
      },
      "source": [
        "<a href=\"https://colab.research.google.com/github/daryllman/walmart-scraper/blob/master/scraper_exploration.ipynb\" target=\"_parent\"><img src=\"https://colab.research.google.com/assets/colab-badge.svg\" alt=\"Open In Colab\"/></a>"
      ]
    },
    {
      "cell_type": "markdown",
      "metadata": {
        "id": "sMZsdzc_odAT",
        "colab_type": "text"
      },
      "source": [
        "## Load in the necessary libraries"
      ]
    },
    {
      "cell_type": "code",
      "metadata": {
        "id": "MUfKeC9NlP0H",
        "colab_type": "code",
        "colab": {}
      },
      "source": [
        "import requests\n",
        "from bs4 import BeautifulSoup as bs #pip install beautifulsoup4"
      ],
      "execution_count": 1,
      "outputs": []
    },
    {
      "cell_type": "markdown",
      "metadata": {
        "id": "ifH54QbgonXf",
        "colab_type": "text"
      },
      "source": [
        "## Load sample webpage content\n",
        "\n"
      ]
    },
    {
      "cell_type": "code",
      "metadata": {
        "id": "zbnEduH_pA_K",
        "colab_type": "code",
        "colab": {}
      },
      "source": [
        "# Load the sample webpage\n",
        "#base_url = 'https://www.walgreens.com/store/store/category/productlist.jsp?N=359451&Eon=359451&No=98'\n",
        "#base_url = 'https://www.walgreens.com/store/store/category/productlist.jsp?No=24&N=359451&Eon=359451' # normal\n",
        "base_url = 'https://www.walgreens.com/store/store/category/productlist.jsp?No=3696&N=359451&Eon=359451' # with diff product card class names\n",
        "r = requests.get(base_url)\n",
        "\n",
        "# Convert to a beautiful soup object\n",
        "soup = bs(r.content)"
      ],
      "execution_count": 5,
      "outputs": []
    },
    {
      "cell_type": "code",
      "metadata": {
        "id": "eUXPrkmFpQ7j",
        "colab_type": "code",
        "colab": {}
      },
      "source": [
        "#print(r.content)\n",
        "#print(soup)\n",
        "print(soup.prettify())"
      ],
      "execution_count": null,
      "outputs": []
    },
    {
      "cell_type": "markdown",
      "metadata": {
        "id": "wSWTc8iezAlQ",
        "colab_type": "text"
      },
      "source": [
        "## Extract Item URLs from page\n"
      ]
    },
    {
      "cell_type": "code",
      "metadata": {
        "id": "USPG5VlZzF-5",
        "colab_type": "code",
        "colab": {
          "base_uri": "https://localhost:8080/",
          "height": 71
        },
        "outputId": "88182ee0-74e5-49d3-fdd8-ab503ac208a6"
      },
      "source": [
        "# Extract Item divs from page\n",
        "\n",
        "item_divs = soup.findAll('div', id=lambda x: x and x.startswith('productcardprod'))\n",
        "#item_row_divs = soup.findAll('div', id=lambda x: x and x.startswith('product-row-'))\n",
        "#item_divs = [itemrowdiv.findChildren('div', id=re.compile(\"productcardprod\"),recursive=False) for itemrowdiv in item_row_divs]\n",
        "print(item_divs)\n",
        "print(len(item_divs))"
      ],
      "execution_count": 16,
      "outputs": [
        {
          "output_type": "stream",
          "text": [
            "[<div class=\"col-xl-3 col-lg-3 col-md-6 col-sm-6 col-6 product-column pr0\" data-reactid=\"900\" id=\"productcardprod6310393\"><div class=\"wag-product-cards wag-pos-rel\" data-reactid=\"901\"><div class=\"wag-prod-card-btm wag-pos-rel\" data-reactid=\"902\" id=\"productcardheightprod6310393\"><div class=\"beagleprod\" data-reactid=\"903\"></div><div class=\"wag-product-card-details wag-product-card-width_b\" data-reactid=\"904\" id=\"productcard0\"><div class=\"text-center mb20\" data-reactid=\"905\"><a data-reactid=\"906\" href=\"/store/c/stacy's-pita-chips-parmesan-garlic/ID=prod6310393-product\" id=\"productOmniSelectcompare_sku6262124\" title=\"Stacy's Pita Chips Parmesan Garlic (7.33 oz )\"><img alt=\"Stacy's Pita Chips Parmesan Garlic\" class=\"img-responsive wag-familyoffer-productsimg imglazy \" data-reactid=\"907\" id=\"secImgcompare_sku6262124\" src=\"//pics.drugstore.com/prodimg/567203/155.jpg\"/><span class=\"sr-only\" data-reactid=\"908\"><!-- react-text: 909 -->Stacy's Pita Chips Parmesan Garlic<!-- /react-text --><!-- react-text: 910 --> (<!-- /react-text --><!-- react-text: 911 -->7.33 oz <!-- /react-text --><!-- react-text: 912 -->)<!-- /react-text --></span><span aria-hidden=\"true\" class=\"sr-only\" data-reactid=\"913\">Stacy's Pita Chips Parmesan Garlic</span></a></div><div class=\"\" data-reactid=\"914\"><div class=\"wag-pro-grp-elements\" data-reactid=\"915\"><div class=\"wag-prod-title wag-product-title-description wag-prodwratings wag-hn-lt-55roman mb15\" data-reactid=\"916\" name=\"wagproducttitle\"><a data-reactid=\"917\" href=\"/store/c/stacy's-pita-chips-parmesan-garlic/ID=prod6310393-product\" id=\"title-secondary-0compare_sku6262124\" name=\"product-title\" title=\"Stacy's Pita Chips Parmesan Garlic\"><span class=\"sr-only\" data-reactid=\"918\">Shop </span><!-- react-text: 919 -->Stacy's Pita Chips Parmesan Garlic<!-- /react-text --><!-- react-text: 920 --> <!-- /react-text --><span class=\"sr-only \" data-reactid=\"921\"><!-- react-text: 922 --> (<!-- /react-text --><!-- react-text: 923 -->7.33 oz <!-- /react-text --><!-- react-text: 924 -->)<!-- /react-text --></span></a><span class=\"wag-prod-size body-copy__fourteen\" data-reactid=\"925\" id=\"product-sizecompare_sku6262124\" name=\"wagproductsize\"><!-- react-text: 926 -->7.33 oz <!-- /react-text --><!-- react-text: 927 --><!-- /react-text --></span></div></div><div class=\"productcard-space-btmfas\" data-reactid=\"928\"><div class=\"wag-prod-review-info mb15\" data-reactid=\"929\" name=\"wagproductreview\"></div><div data-reactid=\"930\"><div class=\"wag-prod-price-info mb5\" data-reactid=\"931\" name=\"wagproductprice\"><div class=\"priceInfoMsgCls\" data-reactid=\"932\" id=\"weeklyadmessagecompare_sku6262124\"><span class=\"wag-price-msg body-copy__fourteen\" data-reactid=\"933\">Price available in store </span></div><div class=\"wag-prodprice-info-0\" data-reactid=\"934\" id=\"regular-pricecompare_sku6262124\" name=\"regular-price\" tabindex=\"0\"><span class=\"price__contain flex-box-wrap product__regularprice\" data-reactid=\"935\"><span class=\"product__price flex-box-wrap\" data-reactid=\"936\"></span></span></div></div></div><div class=\"wag-offers-group mb15 body-copy__fourteen\" data-reactid=\"937\" name=\"wagoffermsg\"><div class=\"wag-coupon-code\" data-reactid=\"938\" id=\"couponprod6310393\"></div><div class=\"wag-gift-purchase\" data-reactid=\"939\"></div></div></div><div class=\"wag-channal-availability\" data-reactid=\"940\"><div data-reactid=\"941\"><a data-reactid=\"942\" href=\"javascript:void(0)\" id=\"find-at-store-btncompare_sku6262124\" name=\"find-at-store-btn\" role=\"button\"><span class=\"btn btn__tint-blue\" data-reactid=\"943\">Find at a store</span></a><p class=\"wag-channal-availabilitytxt\" data-reactid=\"944\" id=\"not-sold-onlinecompare_sku6262124\" name=\"not-sold-online compare_sku6262124\">Not sold online</p></div></div></div><div class=\" wag-pos-rel check-box\" data-reactid=\"945\" id=\"compare_compare_sku6262124\" name=\"compareproducts\"><input data-reactid=\"946\" id=\"compare_sku6262124\" name=\"compare_sku6262124\" type=\"checkbox\"/><label class=\"compare_label\" data-reactid=\"947\" for=\"compare_sku6262124\" id=\"compare-offcompare_sku6262124\" name=\"compare-off\"><span class=\"check\" data-reactid=\"948\"></span><span data-reactid=\"949\">Compare</span></label></div><div class=\"\" data-reactid=\"950\"><!-- react-text: 951 --> <!-- /react-text --><div class=\"\" data-reactid=\"952\"></div></div></div></div></div></div>, <div class=\"col-xl-3 col-lg-3 col-md-6 col-sm-6 col-6 product-column pr0\" data-reactid=\"953\" id=\"productcardprod6230704\"><div class=\"wag-product-cards wag-pos-rel\" data-reactid=\"954\"><div class=\"wag-prod-card-btm wag-pos-rel\" data-reactid=\"955\" id=\"productcardheightprod6230704\"><div class=\"beagleprod\" data-reactid=\"956\"></div><div class=\"wag-product-card-details wag-product-card-width_b\" data-reactid=\"957\" id=\"productcard1\"><div class=\"text-center mb20\" data-reactid=\"958\"><a data-reactid=\"959\" href=\"/store/c/franzia-chardonnay-wine/ID=prod6230704-product\" id=\"productOmniSelectcompare_sku6199380\" title=\"Franzia Chardonnay Wine (3 L )\"><img alt=\"Franzia Chardonnay Wine\" class=\"img-responsive wag-familyoffer-productsimg imglazy \" data-reactid=\"960\" id=\"secImgcompare_sku6199380\" src=\"//pics.drugstore.com/prodimg/508443/155.jpg\"/><span class=\"sr-only\" data-reactid=\"961\"><!-- react-text: 962 -->Franzia Chardonnay Wine<!-- /react-text --><!-- react-text: 963 --> (<!-- /react-text --><!-- react-text: 964 -->3 L <!-- /react-text --><!-- react-text: 965 -->)<!-- /react-text --></span><span aria-hidden=\"true\" class=\"sr-only\" data-reactid=\"966\">Franzia Chardonnay Wine</span></a></div><div class=\"\" data-reactid=\"967\"><div class=\"wag-pro-grp-elements\" data-reactid=\"968\"><div class=\"wag-prod-title wag-product-title-description wag-prodwratings wag-hn-lt-55roman mb15\" data-reactid=\"969\" name=\"wagproducttitle\"><a data-reactid=\"970\" href=\"/store/c/franzia-chardonnay-wine/ID=prod6230704-product\" id=\"title-secondary-0compare_sku6199380\" name=\"product-title\" title=\"Franzia Chardonnay Wine\"><span class=\"sr-only\" data-reactid=\"971\">Shop </span><!-- react-text: 972 -->Franzia Chardonnay Wine<!-- /react-text --><!-- react-text: 973 --> <!-- /react-text --><span class=\"sr-only \" data-reactid=\"974\"><!-- react-text: 975 --> (<!-- /react-text --><!-- react-text: 976 -->3 L <!-- /react-text --><!-- react-text: 977 -->)<!-- /react-text --></span></a><span class=\"wag-prod-size body-copy__fourteen\" data-reactid=\"978\" id=\"product-sizecompare_sku6199380\" name=\"wagproductsize\"><!-- react-text: 979 -->3 L <!-- /react-text --><!-- react-text: 980 --><!-- /react-text --></span></div></div><div class=\"productcard-space-btmfas\" data-reactid=\"981\"><div class=\"wag-prod-review-info mb15\" data-reactid=\"982\" name=\"wagproductreview\"></div><div data-reactid=\"983\"><div class=\"wag-prod-price-info mb5\" data-reactid=\"984\" name=\"wagproductprice\"><div class=\"priceInfoMsgCls\" data-reactid=\"985\" id=\"weeklyadmessagecompare_sku6199380\"><span class=\"wag-price-msg body-copy__fourteen\" data-reactid=\"986\">Price available in store </span></div><div class=\"wag-prodprice-info-0\" data-reactid=\"987\" id=\"regular-pricecompare_sku6199380\" name=\"regular-price\" tabindex=\"0\"><span class=\"price__contain flex-box-wrap product__regularprice\" data-reactid=\"988\"><span class=\"product__price flex-box-wrap\" data-reactid=\"989\"></span></span></div></div></div><div class=\"wag-offers-group mb15 body-copy__fourteen\" data-reactid=\"990\" name=\"wagoffermsg\"><div class=\"wag-coupon-code\" data-reactid=\"991\" id=\"couponprod6230704\"></div><div class=\"wag-gift-purchase\" data-reactid=\"992\"></div></div></div><div class=\"wag-channal-availability\" data-reactid=\"993\"><div data-reactid=\"994\"><a data-reactid=\"995\" href=\"javascript:void(0)\" id=\"find-at-store-btncompare_sku6199380\" name=\"find-at-store-btn\" role=\"button\"><span class=\"btn btn__tint-blue\" data-reactid=\"996\">Find at a store</span></a><p class=\"wag-channal-availabilitytxt\" data-reactid=\"997\" id=\"not-sold-onlinecompare_sku6199380\" name=\"not-sold-online compare_sku6199380\">Not sold online</p></div></div></div><div class=\" wag-pos-rel check-box\" data-reactid=\"998\" id=\"compare_compare_sku6199380\" name=\"compareproducts\"><input data-reactid=\"999\" id=\"compare_sku6199380\" name=\"compare_sku6199380\" type=\"checkbox\"/><label class=\"compare_label\" data-reactid=\"1000\" for=\"compare_sku6199380\" id=\"compare-offcompare_sku6199380\" name=\"compare-off\"><span class=\"check\" data-reactid=\"1001\"></span><span data-reactid=\"1002\">Compare</span></label></div><div class=\"\" data-reactid=\"1003\"><!-- react-text: 1004 --> <!-- /react-text --><div class=\"\" data-reactid=\"1005\"></div></div></div></div></div></div>, <div class=\"col-xl-3 col-lg-3 col-md-6 col-sm-6 col-6 product-column pr0\" data-reactid=\"1006\" id=\"productcardprod6104868\"><div class=\"wag-product-cards wag-pos-rel\" data-reactid=\"1007\"><div class=\"wag-prod-card-btm wag-pos-rel\" data-reactid=\"1008\" id=\"productcardheightprod6104868\"><div class=\"beagleprod\" data-reactid=\"1009\"></div><div class=\"wag-product-card-details wag-product-card-width_b\" data-reactid=\"1010\" id=\"productcard2\"><div class=\"text-center mb20\" data-reactid=\"1011\"><a data-reactid=\"1012\" href=\"/store/c/sauza-silver-tequila/ID=prod6104868-product\" id=\"productOmniSelectcompare_sku6093164\" title=\"Sauza Silver Tequila (750 ml )\"><img alt=\"Sauza Silver Tequila\" class=\"img-responsive wag-familyoffer-productsimg imglazy \" data-reactid=\"1013\" id=\"secImgcompare_sku6093164\" src=\"//pics.drugstore.com/prodimg/522667/155.jpg\"/><span class=\"sr-only\" data-reactid=\"1014\"><!-- react-text: 1015 -->Sauza Silver Tequila<!-- /react-text --><!-- react-text: 1016 --> (<!-- /react-text --><!-- react-text: 1017 -->750 ml <!-- /react-text --><!-- react-text: 1018 -->)<!-- /react-text --></span><span aria-hidden=\"true\" class=\"sr-only\" data-reactid=\"1019\">Sauza Silver Tequila</span></a></div><div class=\"\" data-reactid=\"1020\"><div class=\"wag-pro-grp-elements\" data-reactid=\"1021\"><div class=\"wag-prod-title wag-product-title-description wag-prodwratings wag-hn-lt-55roman mb15\" data-reactid=\"1022\" name=\"wagproducttitle\"><a data-reactid=\"1023\" href=\"/store/c/sauza-silver-tequila/ID=prod6104868-product\" id=\"title-secondary-0compare_sku6093164\" name=\"product-title\" title=\"Sauza Silver Tequila\"><span class=\"sr-only\" data-reactid=\"1024\">Shop </span><!-- react-text: 1025 -->Sauza Silver Tequila<!-- /react-text --><!-- react-text: 1026 --> <!-- /react-text --><span class=\"sr-only \" data-reactid=\"1027\"><!-- react-text: 1028 --> (<!-- /react-text --><!-- react-text: 1029 -->750 ml <!-- /react-text --><!-- react-text: 1030 -->)<!-- /react-text --></span></a><span class=\"wag-prod-size body-copy__fourteen\" data-reactid=\"1031\" id=\"product-sizecompare_sku6093164\" name=\"wagproductsize\"><!-- react-text: 1032 -->750 ml <!-- /react-text --><!-- react-text: 1033 --><!-- /react-text --></span></div></div><div class=\"productcard-space-btmfas\" data-reactid=\"1034\"><div class=\"wag-prod-review-info mb15\" data-reactid=\"1035\" name=\"wagproductreview\"></div><div data-reactid=\"1036\"><div class=\"wag-prod-price-info mb5\" data-reactid=\"1037\" name=\"wagproductprice\"><div class=\"priceInfoMsgCls\" data-reactid=\"1038\" id=\"weeklyadmessagecompare_sku6093164\"><span class=\"wag-price-msg body-copy__fourteen\" data-reactid=\"1039\">Price available in store </span></div><div class=\"wag-prodprice-info-0\" data-reactid=\"1040\" id=\"regular-pricecompare_sku6093164\" name=\"regular-price\" tabindex=\"0\"><span class=\"price__contain flex-box-wrap product__regularprice\" data-reactid=\"1041\"><span class=\"product__price flex-box-wrap\" data-reactid=\"1042\"></span></span></div></div></div><div class=\"wag-offers-group mb15 body-copy__fourteen\" data-reactid=\"1043\" name=\"wagoffermsg\"><div class=\"wag-coupon-code\" data-reactid=\"1044\" id=\"couponprod6104868\"></div><div class=\"wag-gift-purchase\" data-reactid=\"1045\"></div></div></div><div class=\"wag-channal-availability\" data-reactid=\"1046\"><div data-reactid=\"1047\"><a data-reactid=\"1048\" href=\"javascript:void(0)\" id=\"find-at-store-btncompare_sku6093164\" name=\"find-at-store-btn\" role=\"button\"><span class=\"btn btn__tint-blue\" data-reactid=\"1049\">Find at a store</span></a><p class=\"wag-channal-availabilitytxt\" data-reactid=\"1050\" id=\"not-sold-onlinecompare_sku6093164\" name=\"not-sold-online compare_sku6093164\">Not sold online</p></div></div></div><div class=\" wag-pos-rel check-box\" data-reactid=\"1051\" id=\"compare_compare_sku6093164\" name=\"compareproducts\"><input data-reactid=\"1052\" id=\"compare_sku6093164\" name=\"compare_sku6093164\" type=\"checkbox\"/><label class=\"compare_label\" data-reactid=\"1053\" for=\"compare_sku6093164\" id=\"compare-offcompare_sku6093164\" name=\"compare-off\"><span class=\"check\" data-reactid=\"1054\"></span><span data-reactid=\"1055\">Compare</span></label></div><div class=\"\" data-reactid=\"1056\"><!-- react-text: 1057 --> <!-- /react-text --><div class=\"\" data-reactid=\"1058\"></div></div></div></div></div></div>, <div class=\"col-xl-3 col-lg-3 col-md-6 col-sm-6 col-6 product-column pr0\" data-reactid=\"1059\" id=\"productcardprod6198647\"><div class=\"wag-product-cards wag-pos-rel\" data-reactid=\"1060\"><div class=\"wag-prod-card-btm wag-pos-rel\" data-reactid=\"1061\" id=\"productcardheightprod6198647\"><div class=\"beagleprod\" data-reactid=\"1062\"></div><div class=\"wag-product-card-details wag-product-card-width_b\" data-reactid=\"1063\" id=\"productcard3\"><div class=\"text-center mb20\" data-reactid=\"1064\"><a data-reactid=\"1065\" href=\"/store/c/budweiser-beer-black-crown,-25-ox-can/ID=prod6198647-product\" id=\"productOmniSelectcompare_sku6175159\" title=\"Budweiser Beer Black Crown, 25 ox Can (1 ea )\"><img alt=\"Budweiser Beer Black Crown, 25 ox Can\" class=\"img-responsive wag-familyoffer-productsimg imglazy \" data-reactid=\"1066\" id=\"secImgcompare_sku6175159\" src=\"//pics.drugstore.com/prodimg/518200/155.jpg\"/><span class=\"sr-only\" data-reactid=\"1067\"><!-- react-text: 1068 -->Budweiser Beer Black Crown, 25 ox Can<!-- /react-text --><!-- react-text: 1069 --> (<!-- /react-text --><!-- react-text: 1070 -->1 ea <!-- /react-text --><!-- react-text: 1071 -->)<!-- /react-text --></span><span aria-hidden=\"true\" class=\"sr-only\" data-reactid=\"1072\">Budweiser Beer Black Crown, 25 ox Can</span></a></div><div class=\"\" data-reactid=\"1073\"><div class=\"wag-pro-grp-elements\" data-reactid=\"1074\"><div class=\"wag-prod-title wag-product-title-description wag-prodwratings wag-hn-lt-55roman mb15\" data-reactid=\"1075\" name=\"wagproducttitle\"><a data-reactid=\"1076\" href=\"/store/c/budweiser-beer-black-crown,-25-ox-can/ID=prod6198647-product\" id=\"title-secondary-0compare_sku6175159\" name=\"product-title\" title=\"Budweiser Beer Black Crown, 25 ox Can\"><span class=\"sr-only\" data-reactid=\"1077\">Shop </span><!-- react-text: 1078 -->Budweiser Beer Black Crown, 25 ox Can<!-- /react-text --><!-- react-text: 1079 --> <!-- /react-text --><span class=\"sr-only \" data-reactid=\"1080\"><!-- react-text: 1081 --> (<!-- /react-text --><!-- react-text: 1082 -->1 ea <!-- /react-text --><!-- react-text: 1083 -->)<!-- /react-text --></span></a><span class=\"wag-prod-size body-copy__fourteen\" data-reactid=\"1084\" id=\"product-sizecompare_sku6175159\" name=\"wagproductsize\"><!-- react-text: 1085 -->1 ea <!-- /react-text --><!-- react-text: 1086 --><!-- /react-text --></span></div></div><div class=\"productcard-space-btmfas\" data-reactid=\"1087\"><div class=\"wag-prod-review-info mb15\" data-reactid=\"1088\" name=\"wagproductreview\"></div><div data-reactid=\"1089\"><div class=\"wag-prod-price-info mb5\" data-reactid=\"1090\" name=\"wagproductprice\"><div class=\"priceInfoMsgCls\" data-reactid=\"1091\" id=\"weeklyadmessagecompare_sku6175159\"><span class=\"wag-price-msg body-copy__fourteen\" data-reactid=\"1092\">Price available in store </span></div><div class=\"wag-prodprice-info-0\" data-reactid=\"1093\" id=\"regular-pricecompare_sku6175159\" name=\"regular-price\" tabindex=\"0\"><span class=\"price__contain flex-box-wrap product__regularprice\" data-reactid=\"1094\"><span class=\"product__price flex-box-wrap\" data-reactid=\"1095\"></span></span></div></div></div><div class=\"wag-offers-group mb15 body-copy__fourteen\" data-reactid=\"1096\" name=\"wagoffermsg\"><div class=\"wag-coupon-code\" data-reactid=\"1097\" id=\"couponprod6198647\"></div><div class=\"wag-gift-purchase\" data-reactid=\"1098\"></div></div></div><div class=\"wag-channal-availability\" data-reactid=\"1099\"><div data-reactid=\"1100\"><a data-reactid=\"1101\" href=\"javascript:void(0)\" id=\"find-at-store-btncompare_sku6175159\" name=\"find-at-store-btn\" role=\"button\"><span class=\"btn btn__tint-blue\" data-reactid=\"1102\">Find at a store</span></a><p class=\"wag-channal-availabilitytxt\" data-reactid=\"1103\" id=\"not-sold-onlinecompare_sku6175159\" name=\"not-sold-online compare_sku6175159\">Not sold online</p></div></div></div><div class=\" wag-pos-rel check-box\" data-reactid=\"1104\" id=\"compare_compare_sku6175159\" name=\"compareproducts\"><input data-reactid=\"1105\" id=\"compare_sku6175159\" name=\"compare_sku6175159\" type=\"checkbox\"/><label class=\"compare_label\" data-reactid=\"1106\" for=\"compare_sku6175159\" id=\"compare-offcompare_sku6175159\" name=\"compare-off\"><span class=\"check\" data-reactid=\"1107\"></span><span data-reactid=\"1108\">Compare</span></label></div><div class=\"\" data-reactid=\"1109\"><!-- react-text: 1110 --> <!-- /react-text --><div class=\"\" data-reactid=\"1111\"></div></div></div></div></div></div>, <div class=\"col-xl-3 col-lg-3 col-md-6 col-sm-6 col-6 product-column pr0\" data-reactid=\"1114\" id=\"productcardprod6331885\"><div class=\"wag-product-cards wag-pos-rel\" data-reactid=\"1115\"><div class=\"wag-prod-card-btm wag-pos-rel\" data-reactid=\"1116\" id=\"productcardheightprod6331885\"><div class=\"beagleprod\" data-reactid=\"1117\"></div><div class=\"wag-product-card-details wag-product-card-width_b\" data-reactid=\"1118\" id=\"productcard4\"><div class=\"text-center mb20\" data-reactid=\"1119\"><a data-reactid=\"1120\" href=\"/store/c/sun-drop-soda-citrus/ID=prod6331885-product\" id=\"productOmniSelectcompare_sku6277475\" title=\"Sun Drop Soda Citrus (20 oz )\"><img alt=\"Sun Drop Soda Citrus\" class=\"img-responsive wag-familyoffer-productsimg imglazy \" data-reactid=\"1121\" id=\"secImgcompare_sku6277475\" src=\"//pics.drugstore.com/prodimg/582203/155.jpg\"/><span class=\"sr-only\" data-reactid=\"1122\"><!-- react-text: 1123 -->Sun Drop Soda Citrus<!-- /react-text --><!-- react-text: 1124 --> (<!-- /react-text --><!-- react-text: 1125 -->20 oz <!-- /react-text --><!-- react-text: 1126 -->)<!-- /react-text --></span><span aria-hidden=\"true\" class=\"sr-only\" data-reactid=\"1127\">Sun Drop Soda Citrus</span></a></div><div class=\"\" data-reactid=\"1128\"><div class=\"wag-pro-grp-elements\" data-reactid=\"1129\"><div class=\"wag-prod-title wag-product-title-description wag-prodwratings wag-hn-lt-55roman mb15\" data-reactid=\"1130\" name=\"wagproducttitle\"><a data-reactid=\"1131\" href=\"/store/c/sun-drop-soda-citrus/ID=prod6331885-product\" id=\"title-secondary-0compare_sku6277475\" name=\"product-title\" title=\"Sun Drop Soda Citrus\"><span class=\"sr-only\" data-reactid=\"1132\">Shop </span><!-- react-text: 1133 -->Sun Drop Soda Citrus<!-- /react-text --><!-- react-text: 1134 --> <!-- /react-text --><span class=\"sr-only \" data-reactid=\"1135\"><!-- react-text: 1136 --> (<!-- /react-text --><!-- react-text: 1137 -->20 oz <!-- /react-text --><!-- react-text: 1138 -->)<!-- /react-text --></span></a><span class=\"wag-prod-size body-copy__fourteen\" data-reactid=\"1139\" id=\"product-sizecompare_sku6277475\" name=\"wagproductsize\"><!-- react-text: 1140 -->20 oz <!-- /react-text --><!-- react-text: 1141 --><!-- /react-text --></span></div></div><div class=\"productcard-space-btmfas\" data-reactid=\"1142\"><div class=\"wag-prod-review-info mb15\" data-reactid=\"1143\" name=\"wagproductreview\"></div><div data-reactid=\"1144\"><div class=\"wag-prod-price-info mb5\" data-reactid=\"1145\" name=\"wagproductprice\"><div class=\"priceInfoMsgCls\" data-reactid=\"1146\" id=\"weeklyadmessagecompare_sku6277475\"><span class=\"wag-price-msg body-copy__fourteen\" data-reactid=\"1147\">Price available in store </span></div><div class=\"wag-prodprice-info-0\" data-reactid=\"1148\" id=\"regular-pricecompare_sku6277475\" name=\"regular-price\" tabindex=\"0\"><span class=\"price__contain flex-box-wrap product__regularprice\" data-reactid=\"1149\"><span class=\"product__price flex-box-wrap\" data-reactid=\"1150\"></span></span></div></div></div><div class=\"wag-offers-group mb15 body-copy__fourteen\" data-reactid=\"1151\" name=\"wagoffermsg\"><div class=\"wag-coupon-code\" data-reactid=\"1152\" id=\"couponprod6331885\"></div><div class=\"wag-gift-purchase\" data-reactid=\"1153\"></div></div></div><div class=\"wag-channal-availability\" data-reactid=\"1154\"><div data-reactid=\"1155\"><a data-reactid=\"1156\" href=\"javascript:void(0)\" id=\"find-at-store-btncompare_sku6277475\" name=\"find-at-store-btn\" role=\"button\"><span class=\"btn btn__tint-blue\" data-reactid=\"1157\">Find at a store</span></a><p class=\"wag-channal-availabilitytxt\" data-reactid=\"1158\" id=\"not-sold-onlinecompare_sku6277475\" name=\"not-sold-online compare_sku6277475\">Not sold online</p></div></div></div><div class=\" wag-pos-rel check-box\" data-reactid=\"1159\" id=\"compare_compare_sku6277475\" name=\"compareproducts\"><input data-reactid=\"1160\" id=\"compare_sku6277475\" name=\"compare_sku6277475\" type=\"checkbox\"/><label class=\"compare_label\" data-reactid=\"1161\" for=\"compare_sku6277475\" id=\"compare-offcompare_sku6277475\" name=\"compare-off\"><span class=\"check\" data-reactid=\"1162\"></span><span data-reactid=\"1163\">Compare</span></label></div><div class=\"\" data-reactid=\"1164\"><!-- react-text: 1165 --> <!-- /react-text --><div class=\"\" data-reactid=\"1166\"></div></div></div></div></div></div>, <div class=\"col-xl-3 col-lg-3 col-md-6 col-sm-6 col-6 product-column pr0\" data-reactid=\"1167\" id=\"productcardprod6347938\"><div class=\"wag-product-cards wag-pos-rel\" data-reactid=\"1168\"><div class=\"wag-prod-card-btm wag-pos-rel\" data-reactid=\"1169\" id=\"productcardheightprod6347938\"><div class=\"beagleprod\" data-reactid=\"1170\"></div><div class=\"wag-product-card-details wag-product-card-width_b\" data-reactid=\"1171\" id=\"productcard5\"><div class=\"text-center mb20\" data-reactid=\"1172\"><a data-reactid=\"1173\" href=\"/store/c/frito-lay-potato-chips-sour-cream-and-onion/ID=prod6347938-product\" id=\"productOmniSelectcompare_sku6286412\" title=\"Frito Lay Potato Chips Sour Cream And Onion (9.5 oz )\"><img alt=\"Frito Lay Potato Chips Sour Cream And Onion\" class=\"img-responsive wag-familyoffer-productsimg imglazy \" data-reactid=\"1174\" id=\"secImgcompare_sku6286412\" src=\"//pics.drugstore.com/prodimg/595130/155.jpg\"/><span class=\"sr-only\" data-reactid=\"1175\"><!-- react-text: 1176 -->Frito Lay Potato Chips Sour Cream And Onion<!-- /react-text --><!-- react-text: 1177 --> (<!-- /react-text --><!-- react-text: 1178 -->9.5 oz <!-- /react-text --><!-- react-text: 1179 -->)<!-- /react-text --></span><span aria-hidden=\"true\" class=\"sr-only\" data-reactid=\"1180\">Frito Lay Potato Chips Sour Cream And Onion</span></a></div><div class=\"\" data-reactid=\"1181\"><div class=\"wag-pro-grp-elements\" data-reactid=\"1182\"><div class=\"wag-prod-title wag-product-title-description wag-prodwratings wag-hn-lt-55roman mb15\" data-reactid=\"1183\" name=\"wagproducttitle\"><a data-reactid=\"1184\" href=\"/store/c/frito-lay-potato-chips-sour-cream-and-onion/ID=prod6347938-product\" id=\"title-secondary-0compare_sku6286412\" name=\"product-title\" title=\"Frito Lay Potato Chips Sour Cream And Onion\"><span class=\"sr-only\" data-reactid=\"1185\">Shop </span><!-- react-text: 1186 -->Frito Lay Potato Chips Sour Cream And Onion<!-- /react-text --><!-- react-text: 1187 --> <!-- /react-text --><span class=\"sr-only \" data-reactid=\"1188\"><!-- react-text: 1189 --> (<!-- /react-text --><!-- react-text: 1190 -->9.5 oz <!-- /react-text --><!-- react-text: 1191 -->)<!-- /react-text --></span></a><span class=\"wag-prod-size body-copy__fourteen\" data-reactid=\"1192\" id=\"product-sizecompare_sku6286412\" name=\"wagproductsize\"><!-- react-text: 1193 -->9.5 oz <!-- /react-text --><!-- react-text: 1194 --><!-- /react-text --></span></div></div><div class=\"productcard-space-btmfas\" data-reactid=\"1195\"><div class=\"wag-prod-review-info mb15\" data-reactid=\"1196\" name=\"wagproductreview\"></div><div data-reactid=\"1197\"><div class=\"wag-prod-price-info mb5\" data-reactid=\"1198\" name=\"wagproductprice\"><div class=\"priceInfoMsgCls\" data-reactid=\"1199\" id=\"weeklyadmessagecompare_sku6286412\"><span class=\"wag-price-msg body-copy__fourteen\" data-reactid=\"1200\">Price available in store </span></div><div class=\"wag-prodprice-info-0\" data-reactid=\"1201\" id=\"regular-pricecompare_sku6286412\" name=\"regular-price\" tabindex=\"0\"><span class=\"price__contain flex-box-wrap product__regularprice\" data-reactid=\"1202\"><span class=\"product__price flex-box-wrap\" data-reactid=\"1203\"></span></span></div></div></div><div class=\"wag-offers-group mb15 body-copy__fourteen\" data-reactid=\"1204\" name=\"wagoffermsg\"><div class=\"wag-coupon-code\" data-reactid=\"1205\" id=\"couponprod6347938\"></div><div class=\"wag-gift-purchase\" data-reactid=\"1206\"></div></div></div><div class=\"wag-channal-availability\" data-reactid=\"1207\"><div data-reactid=\"1208\"><a data-reactid=\"1209\" href=\"javascript:void(0)\" id=\"find-at-store-btncompare_sku6286412\" name=\"find-at-store-btn\" role=\"button\"><span class=\"btn btn__tint-blue\" data-reactid=\"1210\">Find at a store</span></a><p class=\"wag-channal-availabilitytxt\" data-reactid=\"1211\" id=\"not-sold-onlinecompare_sku6286412\" name=\"not-sold-online compare_sku6286412\">Not sold online</p></div></div></div><div class=\" wag-pos-rel check-box\" data-reactid=\"1212\" id=\"compare_compare_sku6286412\" name=\"compareproducts\"><input data-reactid=\"1213\" id=\"compare_sku6286412\" name=\"compare_sku6286412\" type=\"checkbox\"/><label class=\"compare_label\" data-reactid=\"1214\" for=\"compare_sku6286412\" id=\"compare-offcompare_sku6286412\" name=\"compare-off\"><span class=\"check\" data-reactid=\"1215\"></span><span data-reactid=\"1216\">Compare</span></label></div><div class=\"\" data-reactid=\"1217\"><!-- react-text: 1218 --> <!-- /react-text --><div class=\"\" data-reactid=\"1219\"></div></div></div></div></div></div>, <div class=\"col-xl-3 col-lg-3 col-md-6 col-sm-6 col-6 product-column pr0\" data-reactid=\"1220\" id=\"productcardprod6215269\"><div class=\"wag-product-cards wag-pos-rel\" data-reactid=\"1221\"><div class=\"wag-prod-card-btm wag-pos-rel\" data-reactid=\"1222\" id=\"productcardheightprod6215269\"><div class=\"beagleprod\" data-reactid=\"1223\"></div><div class=\"wag-product-card-details wag-product-card-width_b\" data-reactid=\"1224\" id=\"productcard6\"><div class=\"text-center mb20\" data-reactid=\"1225\"><a data-reactid=\"1226\" href=\"/store/c/campbell's-chunky-steak-%26-potato-soup/ID=prod6215269-product\" id=\"productOmniSelectcompare_sku6188293\" title=\"Campbell's Chunky Steak &amp; Potato Soup (18.8 oz )\"><img alt=\"Campbell's Chunky Steak &amp; Potato Soup\" class=\"img-responsive wag-familyoffer-productsimg imglazy \" data-reactid=\"1227\" id=\"secImgcompare_sku6188293\" src=\"//pics.drugstore.com/prodimg/509213/155.jpg\"/><span class=\"sr-only\" data-reactid=\"1228\"><!-- react-text: 1229 -->Campbell's Chunky Steak &amp; Potato Soup<!-- /react-text --><!-- react-text: 1230 --> (<!-- /react-text --><!-- react-text: 1231 -->18.8 oz <!-- /react-text --><!-- react-text: 1232 -->)<!-- /react-text --></span><span aria-hidden=\"true\" class=\"sr-only\" data-reactid=\"1233\">Campbell's Chunky Steak &amp; Potato Soup</span></a></div><div class=\"\" data-reactid=\"1234\"><div class=\"wag-pro-grp-elements\" data-reactid=\"1235\"><div class=\"wag-prod-title wag-product-title-description wag-prodwratings wag-hn-lt-55roman mb15\" data-reactid=\"1236\" name=\"wagproducttitle\"><a data-reactid=\"1237\" href=\"/store/c/campbell's-chunky-steak-%26-potato-soup/ID=prod6215269-product\" id=\"title-secondary-0compare_sku6188293\" name=\"product-title\" title=\"Campbell's Chunky Steak &amp; Potato Soup\"><span class=\"sr-only\" data-reactid=\"1238\">Shop </span><!-- react-text: 1239 -->Campbell's Chunky Steak &amp; Potato Soup<!-- /react-text --><!-- react-text: 1240 --> <!-- /react-text --><span class=\"sr-only \" data-reactid=\"1241\"><!-- react-text: 1242 --> (<!-- /react-text --><!-- react-text: 1243 -->18.8 oz <!-- /react-text --><!-- react-text: 1244 -->)<!-- /react-text --></span></a><span class=\"wag-prod-size body-copy__fourteen\" data-reactid=\"1245\" id=\"product-sizecompare_sku6188293\" name=\"wagproductsize\"><!-- react-text: 1246 -->18.8 oz <!-- /react-text --><!-- react-text: 1247 --><!-- /react-text --></span></div></div><div class=\"productcard-space-btmfas\" data-reactid=\"1248\"><div class=\"wag-prod-review-info mb15\" data-reactid=\"1249\" name=\"wagproductreview\"></div><div data-reactid=\"1250\"><div class=\"wag-prod-price-info mb5\" data-reactid=\"1251\" name=\"wagproductprice\"><div class=\"priceInfoMsgCls\" data-reactid=\"1252\" id=\"weeklyadmessagecompare_sku6188293\"><span class=\"wag-price-msg body-copy__fourteen\" data-reactid=\"1253\">Price available in store </span></div><div class=\"wag-prodprice-info-0\" data-reactid=\"1254\" id=\"regular-pricecompare_sku6188293\" name=\"regular-price\" tabindex=\"0\"><span class=\"price__contain flex-box-wrap product__regularprice\" data-reactid=\"1255\"><span class=\"product__price flex-box-wrap\" data-reactid=\"1256\"></span></span></div></div></div><div class=\"wag-offers-group mb15 body-copy__fourteen\" data-reactid=\"1257\" name=\"wagoffermsg\"><div class=\"wag-coupon-code\" data-reactid=\"1258\" id=\"couponprod6215269\"></div><div class=\"wag-gift-purchase\" data-reactid=\"1259\"></div></div></div><div class=\"wag-channal-availability\" data-reactid=\"1260\"><div data-reactid=\"1261\"><a data-reactid=\"1262\" href=\"javascript:void(0)\" id=\"find-at-store-btncompare_sku6188293\" name=\"find-at-store-btn\" role=\"button\"><span class=\"btn btn__tint-blue\" data-reactid=\"1263\">Find at a store</span></a><p class=\"wag-channal-availabilitytxt\" data-reactid=\"1264\" id=\"not-sold-onlinecompare_sku6188293\" name=\"not-sold-online compare_sku6188293\">Not sold online</p></div></div></div><div class=\" wag-pos-rel check-box\" data-reactid=\"1265\" id=\"compare_compare_sku6188293\" name=\"compareproducts\"><input data-reactid=\"1266\" id=\"compare_sku6188293\" name=\"compare_sku6188293\" type=\"checkbox\"/><label class=\"compare_label\" data-reactid=\"1267\" for=\"compare_sku6188293\" id=\"compare-offcompare_sku6188293\" name=\"compare-off\"><span class=\"check\" data-reactid=\"1268\"></span><span data-reactid=\"1269\">Compare</span></label></div><div class=\"\" data-reactid=\"1270\"><!-- react-text: 1271 --> <!-- /react-text --><div class=\"\" data-reactid=\"1272\"></div></div></div></div></div></div>, <div class=\"col-xl-3 col-lg-3 col-md-6 col-sm-6 col-6 product-column pr0\" data-reactid=\"1273\" id=\"productcardprod6252790\"><div class=\"wag-product-cards wag-pos-rel\" data-reactid=\"1274\"><div class=\"wag-prod-card-btm wag-pos-rel\" data-reactid=\"1275\" id=\"productcardheightprod6252790\"><div class=\"beagleprod\" data-reactid=\"1276\"></div><div class=\"wag-product-card-details wag-product-card-width_b\" data-reactid=\"1277\" id=\"productcard7\"><div class=\"text-center mb20\" data-reactid=\"1278\"><a data-reactid=\"1279\" href=\"/store/c/russell-stover-big-bite-bar-caramel/ID=prod6252790-product\" id=\"productOmniSelectcompare_sku6215713\" title=\"Russell Stover Big Bite Bar Caramel (2 oz )\"><img alt=\"Russell Stover Big Bite Bar Caramel\" class=\"img-responsive wag-familyoffer-productsimg imglazy \" data-reactid=\"1280\" id=\"secImgcompare_sku6215713\" src=\"//pics.drugstore.com/prodimg/538231/155.jpg\"/><span class=\"sr-only\" data-reactid=\"1281\"><!-- react-text: 1282 -->Russell Stover Big Bite Bar Caramel<!-- /react-text --><!-- react-text: 1283 --> (<!-- /react-text --><!-- react-text: 1284 -->2 oz <!-- /react-text --><!-- react-text: 1285 -->)<!-- /react-text --></span><span aria-hidden=\"true\" class=\"sr-only\" data-reactid=\"1286\">Russell Stover Big Bite Bar Caramel</span></a></div><div class=\"\" data-reactid=\"1287\"><div class=\"wag-pro-grp-elements\" data-reactid=\"1288\"><div class=\"wag-prod-title wag-product-title-description wag-prodwratings wag-hn-lt-55roman mb15\" data-reactid=\"1289\" name=\"wagproducttitle\"><a data-reactid=\"1290\" href=\"/store/c/russell-stover-big-bite-bar-caramel/ID=prod6252790-product\" id=\"title-secondary-0compare_sku6215713\" name=\"product-title\" title=\"Russell Stover Big Bite Bar Caramel\"><span class=\"sr-only\" data-reactid=\"1291\">Shop </span><!-- react-text: 1292 -->Russell Stover Big Bite Bar Caramel<!-- /react-text --><!-- react-text: 1293 --> <!-- /react-text --><span class=\"sr-only \" data-reactid=\"1294\"><!-- react-text: 1295 --> (<!-- /react-text --><!-- react-text: 1296 -->2 oz <!-- /react-text --><!-- react-text: 1297 -->)<!-- /react-text --></span></a><span class=\"wag-prod-size body-copy__fourteen\" data-reactid=\"1298\" id=\"product-sizecompare_sku6215713\" name=\"wagproductsize\"><!-- react-text: 1299 -->2 oz <!-- /react-text --><!-- react-text: 1300 --><!-- /react-text --></span></div></div><div class=\"productcard-space-btmfas\" data-reactid=\"1301\"><div class=\"wag-prod-review-info mb15\" data-reactid=\"1302\" name=\"wagproductreview\"></div><div data-reactid=\"1303\"><div class=\"wag-prod-price-info mb5\" data-reactid=\"1304\" name=\"wagproductprice\"><div class=\"priceInfoMsgCls\" data-reactid=\"1305\" id=\"weeklyadmessagecompare_sku6215713\"><span class=\"wag-price-msg body-copy__fourteen\" data-reactid=\"1306\">Price available in store </span></div><div class=\"wag-prodprice-info-0\" data-reactid=\"1307\" id=\"regular-pricecompare_sku6215713\" name=\"regular-price\" tabindex=\"0\"><span class=\"price__contain flex-box-wrap product__regularprice\" data-reactid=\"1308\"><span class=\"product__price flex-box-wrap\" data-reactid=\"1309\"></span></span></div></div></div><div class=\"wag-offers-group mb15 body-copy__fourteen\" data-reactid=\"1310\" name=\"wagoffermsg\"><div class=\"wag-coupon-code\" data-reactid=\"1311\" id=\"couponprod6252790\"></div><div class=\"wag-gift-purchase\" data-reactid=\"1312\"></div></div></div><div class=\"wag-channal-availability\" data-reactid=\"1313\"><div data-reactid=\"1314\"><a data-reactid=\"1315\" href=\"javascript:void(0)\" id=\"find-at-store-btncompare_sku6215713\" name=\"find-at-store-btn\" role=\"button\"><span class=\"btn btn__tint-blue\" data-reactid=\"1316\">Find at a store</span></a><p class=\"wag-channal-availabilitytxt\" data-reactid=\"1317\" id=\"not-sold-onlinecompare_sku6215713\" name=\"not-sold-online compare_sku6215713\">Not sold online</p></div></div></div><div class=\" wag-pos-rel check-box\" data-reactid=\"1318\" id=\"compare_compare_sku6215713\" name=\"compareproducts\"><input data-reactid=\"1319\" id=\"compare_sku6215713\" name=\"compare_sku6215713\" type=\"checkbox\"/><label class=\"compare_label\" data-reactid=\"1320\" for=\"compare_sku6215713\" id=\"compare-offcompare_sku6215713\" name=\"compare-off\"><span class=\"check\" data-reactid=\"1321\"></span><span data-reactid=\"1322\">Compare</span></label></div><div class=\"\" data-reactid=\"1323\"><!-- react-text: 1324 --> <!-- /react-text --><div class=\"\" data-reactid=\"1325\"></div></div></div></div></div></div>]\n",
            "8\n"
          ],
          "name": "stdout"
        }
      ]
    },
    {
      "cell_type": "code",
      "metadata": {
        "id": "bI6tq-461ynH",
        "colab_type": "code",
        "colab": {
          "base_uri": "https://localhost:8080/",
          "height": 71
        },
        "outputId": "2fab1f46-4e5b-40e5-9f93-b8eedd9d8196"
      },
      "source": [
        "# Extract Item URL V1\n",
        "import re\n",
        "item_divs = soup.find_all('div', id=re.compile(\"productcardprod\"))\n",
        "url_links = [item.find('a', id=re.compile(\"productOmniSelectcompare\")).get('href', '') for item in item_divs]\n",
        "print(url_links)\n",
        "print(len(url_links))"
      ],
      "execution_count": 17,
      "outputs": [
        {
          "output_type": "stream",
          "text": [
            "[\"/store/c/stacy's-pita-chips-parmesan-garlic/ID=prod6310393-product\", '/store/c/franzia-chardonnay-wine/ID=prod6230704-product', '/store/c/sauza-silver-tequila/ID=prod6104868-product', '/store/c/budweiser-beer-black-crown,-25-ox-can/ID=prod6198647-product', '/store/c/sun-drop-soda-citrus/ID=prod6331885-product', '/store/c/frito-lay-potato-chips-sour-cream-and-onion/ID=prod6347938-product', \"/store/c/campbell's-chunky-steak-%26-potato-soup/ID=prod6215269-product\", '/store/c/russell-stover-big-bite-bar-caramel/ID=prod6252790-product']\n",
            "8\n"
          ],
          "name": "stdout"
        }
      ]
    },
    {
      "cell_type": "code",
      "metadata": {
        "id": "NLInpvZsn5pM",
        "colab_type": "code",
        "colab": {
          "base_uri": "https://localhost:8080/",
          "height": 71
        },
        "outputId": "dab7467a-18a9-4a63-f6f6-ce2b2c220603"
      },
      "source": [
        "# Extract Item URL V2\n",
        "# After scraping, i found that some products are encapsulated under divs with class name 'productcard' only, hence are missed.\n",
        "# A easy way for me to scrape, though not ideal is just to take all divs with the class name 'productcard' -- I will need to filter duplicates afterwards.\n",
        "item_divs = soup.find_all('div', id=re.compile(\"productcard\"))\n",
        "url_links = [item.find('a', id=re.compile(\"productOmniSelectcompare\")).get('href', '') for item in item_divs]\n",
        "url_links = list(dict.fromkeys(url_links)) # to remove duplicates\n",
        "print(url_links)\n",
        "print(len(url_links))"
      ],
      "execution_count": 25,
      "outputs": [
        {
          "output_type": "stream",
          "text": [
            "[\"/store/c/stacy's-pita-chips-parmesan-garlic/ID=prod6310393-product\", '/store/c/franzia-chardonnay-wine/ID=prod6230704-product', '/store/c/sauza-silver-tequila/ID=prod6104868-product', '/store/c/budweiser-beer-black-crown,-25-ox-can/ID=prod6198647-product', '/store/c/sun-drop-soda-citrus/ID=prod6331885-product', '/store/c/frito-lay-potato-chips-sour-cream-and-onion/ID=prod6347938-product', \"/store/c/campbell's-chunky-steak-%26-potato-soup/ID=prod6215269-product\", '/store/c/russell-stover-big-bite-bar-caramel/ID=prod6252790-product']\n",
            "8\n"
          ],
          "name": "stdout"
        }
      ]
    },
    {
      "cell_type": "markdown",
      "metadata": {
        "id": "d8LkBtS1kAw7",
        "colab_type": "text"
      },
      "source": [
        "## Extract Item details from one item url"
      ]
    },
    {
      "cell_type": "code",
      "metadata": {
        "id": "vLqWVpn2MiLY",
        "colab_type": "code",
        "colab": {
          "base_uri": "https://localhost:8080/",
          "height": 34
        },
        "outputId": "2af5589b-a360-40f5-ab4b-9fcf3d99727f"
      },
      "source": [
        "# Extract item detail from one product\n",
        "base_url = \"https://www.walgreens.com\"\n",
        "item1 = url_links[0] # for exploration purpose, we just take the first url from the list\n",
        "item1_url = \"{}{}\".format(base_url,item1)\n",
        "print(item1_url)\n",
        "\n"
      ],
      "execution_count": 26,
      "outputs": [
        {
          "output_type": "stream",
          "text": [
            "https://www.walgreens.com/store/c/stacy's-pita-chips-parmesan-garlic/ID=prod6310393-product\n"
          ],
          "name": "stdout"
        }
      ]
    },
    {
      "cell_type": "code",
      "metadata": {
        "id": "yN9DkIjDXS8z",
        "colab_type": "code",
        "colab": {}
      },
      "source": [
        "r = requests.get(item1_url)\n",
        "\n",
        "# Convert to a beautiful soup object\n",
        "item_soup = bs(r.content)\n",
        "\n",
        "# Initialise json object for item\n",
        "item_dict = dict()\n",
        "item_dict[\"categoricalFeatures\"] = {}\n",
        "item_dict[\"textFeatures\"] = {}\n",
        "item_dict[\"numericalFeatures\"] = {}\n"
      ],
      "execution_count": 30,
      "outputs": []
    },
    {
      "cell_type": "code",
      "metadata": {
        "id": "gLUmKAmbXYJo",
        "colab_type": "code",
        "colab": {
          "base_uri": "https://localhost:8080/",
          "height": 35
        },
        "outputId": "783fa5a4-a6a0-4307-c2da-b7ed24f03594"
      },
      "source": [
        "# Get Name\n",
        "item_name = item_soup.find(id='productName').find('span').getText()\n",
        "item_dict[\"textFeatures\"][\"name\"] = item_name\n",
        "item_name"
      ],
      "execution_count": 33,
      "outputs": [
        {
          "output_type": "execute_result",
          "data": {
            "application/vnd.google.colaboratory.intrinsic+json": {
              "type": "string"
            },
            "text/plain": [
              "'Pita Chips Parmesan Garlic'"
            ]
          },
          "metadata": {
            "tags": []
          },
          "execution_count": 33
        }
      ]
    },
    {
      "cell_type": "code",
      "metadata": {
        "id": "GvbSxLyQZKdY",
        "colab_type": "code",
        "colab": {
          "base_uri": "https://localhost:8080/",
          "height": 35
        },
        "outputId": "fd85c9d7-8e55-41ea-e0be-752b2aedc0ba"
      },
      "source": [
        "# Get Image URL\n",
        "item_img_url = item_soup.find(id='productImg').get('src')\n",
        "item_dict[\"image_url\"] = item_img_url\n",
        "item_img_url"
      ],
      "execution_count": 34,
      "outputs": [
        {
          "output_type": "execute_result",
          "data": {
            "application/vnd.google.colaboratory.intrinsic+json": {
              "type": "string"
            },
            "text/plain": [
              "'https://pics.drugstore.com/prodimg/567203/900.jpg'"
            ]
          },
          "metadata": {
            "tags": []
          },
          "execution_count": 34
        }
      ]
    },
    {
      "cell_type": "code",
      "metadata": {
        "id": "kdjtJVYEbEvF",
        "colab_type": "code",
        "colab": {
          "base_uri": "https://localhost:8080/",
          "height": 35
        },
        "outputId": "45886236-923d-4fa5-cf32-08772058575b"
      },
      "source": [
        "# Get Brand\n",
        "item_brand = item_soup.find('a',attrs={'class':'brand-title'}).find('strong').getText()\n",
        "item_dict[\"categoricalFeatures\"][\"brand\"] = {\"values\":[item_brand]}\n",
        "item_brand"
      ],
      "execution_count": 35,
      "outputs": [
        {
          "output_type": "execute_result",
          "data": {
            "application/vnd.google.colaboratory.intrinsic+json": {
              "type": "string"
            },
            "text/plain": [
              "\"Stacy's\""
            ]
          },
          "metadata": {
            "tags": []
          },
          "execution_count": 35
        }
      ]
    },
    {
      "cell_type": "code",
      "metadata": {
        "id": "tL_iJcYMcHUI",
        "colab_type": "code",
        "colab": {
          "base_uri": "https://localhost:8080/",
          "height": 34
        },
        "outputId": "e6ca787c-cb69-4a20-d111-035880fe4b04"
      },
      "source": [
        "# Get Categories\n",
        "item_cat_list = item_soup.find('ul',attrs={'class':'nav__bread-crumbs'}).findAll('li')\n",
        "item_cat_list_formatted = [cat.getText() for cat in item_cat_list]\n",
        "remaining_list = item_cat_list_formatted[item_cat_list_formatted.index(\"Grocery\"):]\n",
        "item_dict[\"categoricalFeatures\"][\"category\"] = {\"values\":remaining_list}\n",
        "remaining_list"
      ],
      "execution_count": 37,
      "outputs": [
        {
          "output_type": "execute_result",
          "data": {
            "text/plain": [
              "['Grocery', 'Snacks', 'Chips, Dips & Pretzels']"
            ]
          },
          "metadata": {
            "tags": []
          },
          "execution_count": 37
        }
      ]
    },
    {
      "cell_type": "code",
      "metadata": {
        "id": "xfyf1-52ePib",
        "colab_type": "code",
        "colab": {}
      },
      "source": [
        "# Get Price\n",
        "# V1: - fails if there is no price..\n",
        "price_list = item_soup.find('div',attrs={'id':'product'}).find('span',attrs={'class':'product__price'}).findAll()\n",
        "price_list_formatted = [price.getText() for price in price_list]\n",
        "price_string = \"{}{}\".format(price_list_formatted[0], '.'.join(price_list_formatted[1:]))\n",
        "item_dict[\"numericalFeatures\"][\"price\"] = price_string\n",
        "price_list"
      ],
      "execution_count": null,
      "outputs": []
    },
    {
      "cell_type": "code",
      "metadata": {
        "id": "7RLOAa9Gvra5",
        "colab_type": "code",
        "colab": {
          "base_uri": "https://localhost:8080/",
          "height": 35
        },
        "outputId": "3726acbb-ff3e-4d3b-9294-1c9d6807251e"
      },
      "source": [
        "# Get Price\n",
        "# V2: - if no price, return empty string\n",
        "price_list = item_soup.find('div', attrs={'id': 'product'}).find('span', attrs={'class': 'product__price'})\n",
        "if price_list:\n",
        "    price_list = price_list.findAll()\n",
        "    price_list_formatted = [price.getText() for price in price_list]\n",
        "    price_string = \"{}{}\".format(price_list_formatted[0], '.'.join(price_list_formatted[1:]))\n",
        "else:\n",
        "    price_string = \"\"\n",
        "item_dict[\"numericalFeatures\"][\"price\"] = price_string\n",
        "price_string"
      ],
      "execution_count": 42,
      "outputs": [
        {
          "output_type": "execute_result",
          "data": {
            "application/vnd.google.colaboratory.intrinsic+json": {
              "type": "string"
            },
            "text/plain": [
              "''"
            ]
          },
          "metadata": {
            "tags": []
          },
          "execution_count": 42
        }
      ]
    },
    {
      "cell_type": "code",
      "metadata": {
        "id": "kbYiOGWbgnfT",
        "colab_type": "code",
        "colab": {
          "base_uri": "https://localhost:8080/",
          "height": 35
        },
        "outputId": "4e4a5e95-76a0-4731-d9b7-6870ebe9b73c"
      },
      "source": [
        "# Get Rating\n",
        "rating_val = item_soup.find('div', id=\"prodBV\").find('span').get('aria-label').split()[0]\n",
        "item_dict[\"numericalFeatures\"][\"rating\"] = rating_val\n",
        "rating_val"
      ],
      "execution_count": 46,
      "outputs": [
        {
          "output_type": "execute_result",
          "data": {
            "application/vnd.google.colaboratory.intrinsic+json": {
              "type": "string"
            },
            "text/plain": [
              "'no'"
            ]
          },
          "metadata": {
            "tags": []
          },
          "execution_count": 46
        }
      ]
    },
    {
      "cell_type": "code",
      "metadata": {
        "id": "ZgqfQ1_rkrBx",
        "colab_type": "code",
        "colab": {
          "base_uri": "https://localhost:8080/",
          "height": 35
        },
        "outputId": "8354af0b-e05a-44d9-a598-df1cce16242d"
      },
      "source": [
        "# Get Description\n",
        "item_desc_list = item_soup.find('li', id=\"prodDesc\").find('div',attrs={'class':'view-more-content__height'}).find_all(['li','p'])\n",
        "item_desc_list_formatted = [desc.getText() for desc in item_desc_list]\n",
        "item_desc_string = ', '.join(item_desc_list_formatted)\n",
        "item_dict[\"textFeatures\"][\"description\"] = item_desc_string\n",
        "item_desc_string"
      ],
      "execution_count": 52,
      "outputs": [
        {
          "output_type": "execute_result",
          "data": {
            "application/vnd.google.colaboratory.intrinsic+json": {
              "type": "string"
            },
            "text/plain": [
              "''"
            ]
          },
          "metadata": {
            "tags": []
          },
          "execution_count": 52
        }
      ]
    },
    {
      "cell_type": "code",
      "metadata": {
        "id": "HheQhizTrXA_",
        "colab_type": "code",
        "colab": {
          "base_uri": "https://localhost:8080/",
          "height": 52
        },
        "outputId": "18be90a1-2b61-4112-d627-248b8c6aed99"
      },
      "source": [
        "# Get Ingredients\n",
        "item_ingrd = item_soup.find('li', id=\"Ingredients\").find('span').getText()\n",
        "item_dict[\"textFeatures\"][\"ingredients\"] = item_ingrd\n",
        "item_ingrd"
      ],
      "execution_count": 51,
      "outputs": [
        {
          "output_type": "execute_result",
          "data": {
            "application/vnd.google.colaboratory.intrinsic+json": {
              "type": "string"
            },
            "text/plain": [
              "\"Enriched Wheat Flour, (Wheat Flour, Niacin, Reduced Iron, Thiamin Mononitrate, Riboflavin, Folic Acid), or Canola Oil, Sunflower Oil and, (Pasteurized Cow's Milk, Sea Salt, Less Than 2% of the Following: Whole Wheat Flour, Organic Cane Sugar, Dried Garlic, Parmesan Cheese, (Part-Skim Milk, Cheese Cultures, Enzymes), Salt, Oat Fiber, Yeast, Parsley, Malted Barley Flour, Rosemary Extract, Ascorbic Acid\""
            ]
          },
          "metadata": {
            "tags": []
          },
          "execution_count": 51
        }
      ]
    },
    {
      "cell_type": "code",
      "metadata": {
        "id": "n2CWNcV6rxHh",
        "colab_type": "code",
        "colab": {
          "base_uri": "https://localhost:8080/",
          "height": 88
        },
        "outputId": "7beb2c07-820e-43a7-b91a-3bf5c14c1ea5"
      },
      "source": [
        "# Get Nutrional Information\n",
        "def format_nutri_servings_info(bs_div_item):\n",
        "  full_str = bs_div_item.getText()\n",
        "  key = bs_div_item.strong.getText().strip()\n",
        "  val = full_str.lstrip(key).strip()\n",
        "  return \"{}: {}\".format(key,val)\n",
        "\n",
        "def format_nutri_body_info(bs_tr_item):\n",
        "  intended_content = bs_tr_item.find('td')\n",
        "  full_str = intended_content.getText()\n",
        "  key = intended_content.strong.getText().strip()\n",
        "  val = full_str.lstrip(key).strip()\n",
        "  return \"{}: {}\".format(key,val)\n",
        "\n",
        "item_nutri_list = []\n",
        "item_nutri = item_soup.find('div',attrs={'class':'table-container nutrition'})\n",
        "item_nutri_servings = item_nutri.find_all('div')\n",
        "item_nutri_servings_formatted = [format_nutri_servings_info(item_s) for item_s in item_nutri_servings]\n",
        "print(item_nutri_servings_formatted)\n",
        "\n",
        "item_nutri_body = item_nutri.find('tbody').find_all('tr')\n",
        "item_nutri_body_formatted = [format_nutri_body_info(item_s) for item_s in item_nutri_body]\n",
        "print(item_nutri_body_formatted)\n",
        "\n",
        "item_nutri_list = item_nutri_list + item_nutri_servings_formatted + item_nutri_body_formatted\n",
        "print(item_nutri_list)\n",
        "\n",
        "item_dict[\"textFeatures\"][\"nutritionInformation\"] = {\"values\":item_nutri_list}"
      ],
      "execution_count": 53,
      "outputs": [
        {
          "output_type": "stream",
          "text": [
            "['Serving Size: 1 oz', 'Servings Per Container: About 7']\n",
            "['Total Fat: 5g', 'Saturated Fat: 0.5g', 'Polyunsaturated fat: 0.5g', 'Monounsaturated fat: 4g', 'Cholesterol: 0mg', 'Sodium: 270mg', 'Total Carbohydrate: 18g', 'Dietary fiber: 1g', 'Sugars: Sugars <1g', 'Protein: 3g', 'Calories: 140', 'Calories From Fat - Calories: 50', 'Trans Fat - Total Fat: 0g', 'Vitamin A: 0units', 'Vitamin C: 0units', 'Calcium: 0units', 'Iron: 0units']\n",
            "['Serving Size: 1 oz', 'Servings Per Container: About 7', 'Total Fat: 5g', 'Saturated Fat: 0.5g', 'Polyunsaturated fat: 0.5g', 'Monounsaturated fat: 4g', 'Cholesterol: 0mg', 'Sodium: 270mg', 'Total Carbohydrate: 18g', 'Dietary fiber: 1g', 'Sugars: Sugars <1g', 'Protein: 3g', 'Calories: 140', 'Calories From Fat - Calories: 50', 'Trans Fat - Total Fat: 0g', 'Vitamin A: 0units', 'Vitamin C: 0units', 'Calcium: 0units', 'Iron: 0units']\n"
          ],
          "name": "stdout"
        }
      ]
    },
    {
      "cell_type": "code",
      "metadata": {
        "id": "lqIfUeAAiTXW",
        "colab_type": "code",
        "colab": {
          "base_uri": "https://localhost:8080/",
          "height": 51
        },
        "outputId": "0f94bafb-bf8c-431d-ed6a-2e864d27a647"
      },
      "source": [
        "# Get Product ID\n",
        "# UPC no. if available, if not product id\n",
        "item_upc = item_soup.find('p',attrs={'class':'universal-Item-code'}).getText()\n",
        "item_upc=\"\".join(item_upc.replace(\":\",\"\").split())\n",
        "print(item_upc)\n",
        "item_code = item_soup.find('p',attrs={'class':'universal-product-code'}).getText()\n",
        "item_code = item_code.split()[-1]\n",
        "print(item_code)"
      ],
      "execution_count": 54,
      "outputs": [
        {
          "output_type": "stream",
          "text": [
            "UPC02840056464\n",
            "929146\n"
          ],
          "name": "stdout"
        }
      ]
    },
    {
      "cell_type": "code",
      "metadata": {
        "id": "89MNBNP6l8Am",
        "colab_type": "code",
        "colab": {
          "base_uri": "https://localhost:8080/",
          "height": 35
        },
        "outputId": "59fcec8c-2fb9-42eb-92c3-7f4936bf7d30"
      },
      "source": [
        "import re\n",
        "prod_id = item1_url.split('/')[-1]\n",
        "prod_id_formatted = re.split('=|-',prod_id )[1]\n",
        "prod_id_formatted"
      ],
      "execution_count": 55,
      "outputs": [
        {
          "output_type": "execute_result",
          "data": {
            "application/vnd.google.colaboratory.intrinsic+json": {
              "type": "string"
            },
            "text/plain": [
              "'prod6310393'"
            ]
          },
          "metadata": {
            "tags": []
          },
          "execution_count": 55
        }
      ]
    },
    {
      "cell_type": "markdown",
      "metadata": {
        "id": "7Fuv8o_ckW2l",
        "colab_type": "text"
      },
      "source": [
        "Further formatting of Description text\n"
      ]
    },
    {
      "cell_type": "code",
      "metadata": {
        "id": "u0ZWrdEWBgUt",
        "colab_type": "code",
        "colab": {
          "base_uri": "https://localhost:8080/",
          "height": 34
        },
        "outputId": "68b6a16b-f7c6-45f9-ba53-25efa77a67d1"
      },
      "source": [
        "samplestr =\"ted\\u00a0& Approve.*\\u00a0 Patented Fermentation Process.\\u00a0 \\\"All-Natural\\\".\\u00a0 Non-GMO., This\"\n",
        "#samplestr_formatted = samplestr.replace(\"\\u00a0A\", \" \")\n",
        "#samplestr_formatted = samplestr_formatted.replace(\"\\\\\", \" \")\n",
        "samplestr_formatted = \"\".join(re.split('\\u00a0A|..',samplestr ))\n",
        "print(samplestr_formatted)"
      ],
      "execution_count": 56,
      "outputs": [
        {
          "output_type": "stream",
          "text": [
            "s\n"
          ],
          "name": "stdout"
        }
      ]
    }
  ]
}