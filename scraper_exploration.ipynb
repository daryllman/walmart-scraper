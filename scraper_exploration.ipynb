{
  "nbformat": 4,
  "nbformat_minor": 0,
  "metadata": {
    "colab": {
      "name": "scraper-exploration.ipynb",
      "provenance": [],
      "collapsed_sections": [],
      "authorship_tag": "ABX9TyMI83vHheCHvNAg/vbh5xtj",
      "include_colab_link": true
    },
    "kernelspec": {
      "name": "python3",
      "display_name": "Python 3"
    }
  },
  "cells": [
    {
      "cell_type": "markdown",
      "metadata": {
        "id": "view-in-github",
        "colab_type": "text"
      },
      "source": [
        "<a href=\"https://colab.research.google.com/github/daryllman/walmart-scraper/blob/master/scraper_exploration.ipynb\" target=\"_parent\"><img src=\"https://colab.research.google.com/assets/colab-badge.svg\" alt=\"Open In Colab\"/></a>"
      ]
    },
    {
      "cell_type": "markdown",
      "metadata": {
        "id": "sMZsdzc_odAT",
        "colab_type": "text"
      },
      "source": [
        "## Load in the necessary libraries"
      ]
    },
    {
      "cell_type": "code",
      "metadata": {
        "id": "MUfKeC9NlP0H",
        "colab_type": "code",
        "colab": {}
      },
      "source": [
        "import requests\n",
        "from bs4 import BeautifulSoup as bs #pip install beautifulsoup4"
      ],
      "execution_count": null,
      "outputs": []
    },
    {
      "cell_type": "markdown",
      "metadata": {
        "id": "ifH54QbgonXf",
        "colab_type": "text"
      },
      "source": [
        "## Load sample webpage content\n",
        "\n"
      ]
    },
    {
      "cell_type": "code",
      "metadata": {
        "id": "zbnEduH_pA_K",
        "colab_type": "code",
        "colab": {}
      },
      "source": [
        "# Load the sample webpage\n",
        "#base_url = 'https://www.walgreens.com/store/store/category/productlist.jsp?N=359451&Eon=359451&No=98'\n",
        "base_url = 'https://www.walgreens.com/store/store/category/productlist.jsp?No=24&N=359451&Eon=359451'\n",
        "\n",
        "r = requests.get(base_url)\n",
        "\n",
        "# Convert to a beautiful soup object\n",
        "soup = bs(r.content)"
      ],
      "execution_count": null,
      "outputs": []
    },
    {
      "cell_type": "code",
      "metadata": {
        "id": "eUXPrkmFpQ7j",
        "colab_type": "code",
        "colab": {}
      },
      "source": [
        "#print(r.content)\n",
        "#print(soup)\n",
        "print(soup.prettify())"
      ],
      "execution_count": null,
      "outputs": []
    },
    {
      "cell_type": "markdown",
      "metadata": {
        "id": "wSWTc8iezAlQ",
        "colab_type": "text"
      },
      "source": [
        "## Extract Item URLs from page\n"
      ]
    },
    {
      "cell_type": "code",
      "metadata": {
        "id": "USPG5VlZzF-5",
        "colab_type": "code",
        "colab": {
          "base_uri": "https://localhost:8080/",
          "height": 71
        },
        "outputId": "513cfca3-ee0b-4740-ad9f-ca2a081be325"
      },
      "source": [
        "# Extract Item divs from page\n",
        "item_divs = soup.findAll('div', id=lambda x: x and x.startswith('productcardprod'))\n",
        "#item_divs = soup.findAll('div', id=lambda x: x and x.startswith('product-row-'))\n",
        "print(item_divs)\n",
        "print(len(item_divs))"
      ],
      "execution_count": null,
      "outputs": [
        {
          "output_type": "stream",
          "text": [
            "[<div class=\"col-xl-3 col-lg-3 col-md-6 col-sm-6 col-6 product-column pr0\" data-reactid=\"968\" id=\"productcardprod6296304\"><div class=\"wag-product-cards wag-pos-rel\" data-reactid=\"969\"><div class=\"wag-prod-card-btm wag-pos-rel\" data-reactid=\"970\" id=\"productcardheightprod6296304\"><div class=\"beagleprod\" data-reactid=\"971\"></div><div class=\"wag-product-card-details wag-product-card-width_b\" data-reactid=\"972\" id=\"productcard1\"><div class=\"text-center mb20\" data-reactid=\"973\"><a data-reactid=\"974\" href=\"/store/c/lorna-doone-shortbread-cookies-shortbread/ID=prod6296304-product\" id=\"productOmniSelectcompare_sku6250495\" title=\"Lorna Doone Shortbread Cookies Shortbread (1.5 oz )\"><img alt=\"Lorna Doone Shortbread Cookies Shortbread\" class=\"img-responsive wag-familyoffer-productsimg imglazy \" data-reactid=\"975\" id=\"secImgcompare_sku6250495\" src=\"//pics.drugstore.com/prodimg/560885/155.jpg\"/><span class=\"sr-only\" data-reactid=\"976\"><!-- react-text: 977 -->Lorna Doone Shortbread Cookies Shortbread<!-- /react-text --><!-- react-text: 978 --> (<!-- /react-text --><!-- react-text: 979 -->1.5 oz <!-- /react-text --><!-- react-text: 980 -->)<!-- /react-text --></span><span aria-hidden=\"true\" class=\"sr-only\" data-reactid=\"981\">Lorna Doone Shortbread Cookies Shortbread</span></a></div><div class=\"\" data-reactid=\"982\"><div class=\"wag-pro-grp-elements\" data-reactid=\"983\"><div class=\"wag-prod-title wag-product-title-description wag-prodwratings wag-hn-lt-55roman mb15\" data-reactid=\"984\" name=\"wagproducttitle\"><a data-reactid=\"985\" href=\"/store/c/lorna-doone-shortbread-cookies-shortbread/ID=prod6296304-product\" id=\"title-secondary-0compare_sku6250495\" name=\"product-title\" title=\"Lorna Doone Shortbread Cookies Shortbread\"><span class=\"sr-only\" data-reactid=\"986\">Shop </span><!-- react-text: 987 -->Lorna Doone Shortbread Cookies Shortbread<!-- /react-text --><!-- react-text: 988 --> <!-- /react-text --><span class=\"sr-only \" data-reactid=\"989\"><!-- react-text: 990 --> (<!-- /react-text --><!-- react-text: 991 -->1.5 oz <!-- /react-text --><!-- react-text: 992 -->)<!-- /react-text --></span></a><span class=\"wag-prod-size body-copy__fourteen\" data-reactid=\"993\" id=\"product-sizecompare_sku6250495\" name=\"wagproductsize\"><!-- react-text: 994 -->1.5 oz <!-- /react-text --><span data-reactid=\"995\"><!-- react-text: 996 --> x <!-- /react-text --><!-- react-text: 997 -->3 pack<!-- /react-text --></span></span></div></div><div class=\"productcard-space-btmfas\" data-reactid=\"998\"><div class=\"wag-prod-review-info mb15\" data-reactid=\"999\" name=\"wagproductreview\"><div class=\"flex-align-center wag-prod-ratings\" data-reactid=\"1000\"><span data-reactid=\"1001\"><img alt=\"4.7 out of 5, total 52reviews\" class=\"wag-familyoffer-productsimg ratings-image-height ratingsImgLazy reviewbazar\" data-reactid=\"1002\" height=\"13 \" id=\"reviewbazarcompare_sku6250495\" src=\"//www.walgreens.com//images/adaptive/bvrating/rating-4_7.gif\" title=\"4.7 out of 5\" width=\"70 \"/></span><span class=\"body-copy__fourteen pl5\" data-reactid=\"1003\"><!-- react-text: 1004 -->(<!-- /react-text --><!-- react-text: 1005 -->52<!-- /react-text --><!-- react-text: 1006 -->)<!-- /react-text --></span></div></div><div data-reactid=\"1007\"><div class=\"wag-prod-price-info mb5\" data-reactid=\"1008\" name=\"wagproductprice\"><div class=\"wag-prodprice-info-0\" data-reactid=\"1009\" id=\"regular-pricecompare_sku6250495\" name=\"regular-price\" tabindex=\"0\"><span class=\"price__contain flex-box-wrap product__regularprice\" data-reactid=\"1010\"><span class=\"product__price flex-box-wrap\" data-reactid=\"1011\"><span class=\"product__price\"><sup>$</sup>1<sup>99</sup></span></span><span class=\"sr-only\" data-reactid=\"1012\">$1 and 99 cents</span><span class=\"wag-prod-unit-price body-copy__fourteen\" data-reactid=\"1013\"><!-- react-text: 1014 -->$0.44<!-- /react-text --><!-- react-text: 1015 --> <!-- /react-text --><span data-reactid=\"1016\">/ oz</span></span></span></div></div></div><div class=\"wag-offers-group mb15 body-copy__fourteen\" data-reactid=\"1017\" name=\"wagoffermsg\"><div class=\"wag-coupon-code\" data-reactid=\"1018\" id=\"couponprod6296304\"></div><div class=\"wag-gift-purchase\" data-reactid=\"1019\"></div></div></div><div class=\"wag-channal-availability\" data-reactid=\"1020\"><div data-reactid=\"1021\"><a data-reactid=\"1022\" href=\"javascript:void(0)\" id=\"find-at-store-btncompare_sku6250495\" name=\"find-at-store-btn\" role=\"button\"><span class=\"btn btn__tint-blue\" data-reactid=\"1023\">Find at a store</span></a><a data-reactid=\"1024\" href=\"javascript:void(0)\" id=\"add-to-cart-btncompare_sku6250495\" name=\"add-to-cart-btn\" role=\"button\"><span class=\"btn btn__blue\" data-reactid=\"1025\"><!-- react-text: 1026 -->Add to cart<!-- /react-text --><span class=\"sr-only\" data-reactid=\"1027\">will open overlay</span></span></a></div></div></div><div class=\" wag-pos-rel check-box\" data-reactid=\"1028\" id=\"compare_compare_sku6250495\" name=\"compareproducts\"><input data-reactid=\"1029\" id=\"compare_sku6250495\" name=\"compare_sku6250495\" type=\"checkbox\"/><label class=\"compare_label\" data-reactid=\"1030\" for=\"compare_sku6250495\" id=\"compare-offcompare_sku6250495\" name=\"compare-off\"><span class=\"check\" data-reactid=\"1031\"></span><span data-reactid=\"1032\">Compare</span></label></div><div class=\"\" data-reactid=\"1033\"><!-- react-text: 1034 --> <!-- /react-text --><div class=\"\" data-reactid=\"1035\"></div></div></div></div></div></div>, <div class=\"col-xl-3 col-lg-3 col-md-6 col-sm-6 col-6 product-column pr0\" data-reactid=\"1036\" id=\"productcardprod6383175\"><div class=\"wag-product-cards wag-pos-rel\" data-reactid=\"1037\"><div class=\"wag-prod-card-btm wag-pos-rel\" data-reactid=\"1038\" id=\"productcardheightprod6383175\"><div class=\"beagleprod\" data-reactid=\"1039\"></div><div class=\"wag-product-card-details wag-product-card-width_b\" data-reactid=\"1040\" id=\"productcard2\"><div class=\"text-center mb20\" data-reactid=\"1041\"><a data-reactid=\"1042\" href=\"/store/c/golden-grahams-cereal/ID=prod6383175-product\" id=\"productOmniSelectcompare_sku6318271\" title=\"Golden Grahams Cereal (11.7 OZ )\"><img alt=\"Golden Grahams Cereal\" class=\"img-responsive wag-familyoffer-productsimg imglazy \" data-reactid=\"1043\" id=\"secImgcompare_sku6318271\" src=\"//pics.drugstore.com/prodimg/608807/155.jpg\"/><span class=\"sr-only\" data-reactid=\"1044\"><!-- react-text: 1045 -->Golden Grahams Cereal<!-- /react-text --><!-- react-text: 1046 --> (<!-- /react-text --><!-- react-text: 1047 -->11.7 OZ <!-- /react-text --><!-- react-text: 1048 -->)<!-- /react-text --></span><span aria-hidden=\"true\" class=\"sr-only\" data-reactid=\"1049\">Golden Grahams Cereal</span></a></div><div class=\"\" data-reactid=\"1050\"><div class=\"wag-pro-grp-elements\" data-reactid=\"1051\"><div class=\"wag-prod-title wag-product-title-description wag-prodwratings wag-hn-lt-55roman mb15\" data-reactid=\"1052\" name=\"wagproducttitle\"><a data-reactid=\"1053\" href=\"/store/c/golden-grahams-cereal/ID=prod6383175-product\" id=\"title-secondary-0compare_sku6318271\" name=\"product-title\" title=\"Golden Grahams Cereal\"><span class=\"sr-only\" data-reactid=\"1054\">Shop </span><!-- react-text: 1055 -->Golden Grahams Cereal<!-- /react-text --><!-- react-text: 1056 --> <!-- /react-text --><span class=\"sr-only \" data-reactid=\"1057\"><!-- react-text: 1058 --> (<!-- /react-text --><!-- react-text: 1059 -->11.7 OZ <!-- /react-text --><!-- react-text: 1060 -->)<!-- /react-text --></span></a><span class=\"wag-prod-size body-copy__fourteen\" data-reactid=\"1061\" id=\"product-sizecompare_sku6318271\" name=\"wagproductsize\"><!-- react-text: 1062 -->11.7 OZ <!-- /react-text --><!-- react-text: 1063 --><!-- /react-text --></span></div></div><div class=\"productcard-space-btmfas\" data-reactid=\"1064\"><div class=\"wag-prod-review-info mb15\" data-reactid=\"1065\" name=\"wagproductreview\"><div class=\"flex-align-center wag-prod-ratings\" data-reactid=\"1066\"><span data-reactid=\"1067\"><img alt=\"4.1 out of 5, total 9reviews\" class=\"wag-familyoffer-productsimg ratings-image-height ratingsImgLazy reviewbazar\" data-reactid=\"1068\" height=\"13 \" id=\"reviewbazarcompare_sku6318271\" src=\"//www.walgreens.com//images/adaptive/bvrating/rating-4_1.gif\" title=\"4.1 out of 5\" width=\"70 \"/></span><span class=\"body-copy__fourteen pl5\" data-reactid=\"1069\"><!-- react-text: 1070 -->(<!-- /react-text --><!-- react-text: 1071 -->9<!-- /react-text --><!-- react-text: 1072 -->)<!-- /react-text --></span></div></div><div data-reactid=\"1073\"><div class=\"wag-prod-price-info mb5\" data-reactid=\"1074\" name=\"wagproductprice\"><div data-reactid=\"1075\" tabindex=\"0\"><div class=\"wag-prodprice-info-0\" data-reactid=\"1076\" id=\"sales-pricecompare_sku6318271\" name=\"sales-price\"><span class=\"price__contain flex-box-wrap product__regularprice\" data-reactid=\"1077\"><span class=\"product__price product__price-red flex-box-wrap\" data-reactid=\"1078\"><span class=\"product__price product__price-red\"><sup>$</sup>1<sup>99</sup></span></span><span class=\"body-copy__fourteen wag-prod-unit-price\" data-reactid=\"1079\"><!-- react-text: 1080 -->  <!-- /react-text --><!-- react-text: 1081 -->$0.17<!-- /react-text --><!-- react-text: 1082 --> <!-- /react-text --><span data-reactid=\"1083\">/ oz</span></span></span></div><div class=\"wag-prodprice-info-0\" data-reactid=\"1084\"><span class=\"wag-reg-sale-price wag-block\" data-reactid=\"1085\">2/$7.00 or 1/$4.29</span></div><span class=\"sr-only\" data-reactid=\"1086\"><!-- react-text: 1087 --> Sale price is <!-- /react-text --><!-- react-text: 1088 -->$1 and 99 cents<!-- /react-text --><span data-reactid=\"1089\"><!-- react-text: 1090 -->And Regular price is <!-- /react-text --><!-- react-text: 1091 -->2/$7 and 00 or 1/$4 cents<!-- /react-text --></span></span></div></div></div><div class=\"wag-offers-group mb15 body-copy__fourteen\" data-reactid=\"1092\" name=\"wagoffermsg\"><div class=\"wag-coupon-code\" data-reactid=\"1093\" id=\"couponprod6383175\"><span class=\"ellipsis\" data-reactid=\"1094\"><a data-reactid=\"1095\" href=\"javascript:void(0)\" name=\"coupondetailsclick\" title=\"SAVE $1 ON TWO Coupon\">SAVE $1 ON TWO Coupon</a></span></div><div class=\"wag-gift-purchase\" data-reactid=\"1096\"></div></div></div><div class=\"wag-channal-availability\" data-reactid=\"1097\"><div data-reactid=\"1098\"><a data-reactid=\"1099\" href=\"javascript:void(0)\" id=\"find-at-store-btncompare_sku6318271\" name=\"find-at-store-btn\" role=\"button\"><span class=\"btn btn__tint-blue\" data-reactid=\"1100\">Find at a store</span></a><a data-reactid=\"1101\" href=\"javascript:void(0)\" id=\"add-to-cart-btncompare_sku6318271\" name=\"add-to-cart-btn\" role=\"button\"><span class=\"btn btn__blue\" data-reactid=\"1102\"><!-- react-text: 1103 -->Add to cart<!-- /react-text --><span class=\"sr-only\" data-reactid=\"1104\">will open overlay</span></span></a></div></div></div><div class=\" wag-pos-rel check-box\" data-reactid=\"1105\" id=\"compare_compare_sku6318271\" name=\"compareproducts\"><input data-reactid=\"1106\" id=\"compare_sku6318271\" name=\"compare_sku6318271\" type=\"checkbox\"/><label class=\"compare_label\" data-reactid=\"1107\" for=\"compare_sku6318271\" id=\"compare-offcompare_sku6318271\" name=\"compare-off\"><span class=\"check\" data-reactid=\"1108\"></span><span data-reactid=\"1109\">Compare</span></label></div><div class=\"\" data-reactid=\"1110\"><!-- react-text: 1111 --> <!-- /react-text --><div class=\"\" data-reactid=\"1112\"></div></div></div></div></div></div>, <div class=\"col-xl-3 col-lg-3 col-md-6 col-sm-6 col-6 product-column pr0\" data-reactid=\"1113\" id=\"productcardprod6118209\"><div class=\"wag-product-cards wag-pos-rel\" data-reactid=\"1114\"><div class=\"wag-prod-card-btm wag-pos-rel\" data-reactid=\"1115\" id=\"productcardheightprod6118209\"><div class=\"beagleprod\" data-reactid=\"1116\"></div><div class=\"wag-product-card-details wag-product-card-width_b\" data-reactid=\"1117\" id=\"productcard3\"><div class=\"text-center mb20\" data-reactid=\"1118\"><a data-reactid=\"1119\" href=\"/store/c/maxwell-house-ground-coffee-master-blend/ID=prod6118209-product\" id=\"productOmniSelectcompare_sku6103809\" title=\"Maxwell House Ground Coffee Master Blend (30.6 oz )\"><img alt=\"Maxwell House Ground Coffee Master Blend\" class=\"img-responsive wag-familyoffer-productsimg imglazy \" data-reactid=\"1120\" id=\"secImgcompare_sku6103809\" src=\"//pics.drugstore.com/prodimg/468369/155.jpg\"/><span class=\"sr-only\" data-reactid=\"1121\"><!-- react-text: 1122 -->Maxwell House Ground Coffee Master Blend<!-- /react-text --><!-- react-text: 1123 --> (<!-- /react-text --><!-- react-text: 1124 -->30.6 oz <!-- /react-text --><!-- react-text: 1125 -->)<!-- /react-text --></span><span aria-hidden=\"true\" class=\"sr-only\" data-reactid=\"1126\">Maxwell House Ground Coffee Master Blend</span></a></div><div class=\"\" data-reactid=\"1127\"><div class=\"wag-pro-grp-elements\" data-reactid=\"1128\"><div class=\"wag-prod-title wag-product-title-description wag-prodwratings wag-hn-lt-55roman mb15\" data-reactid=\"1129\" name=\"wagproducttitle\"><a data-reactid=\"1130\" href=\"/store/c/maxwell-house-ground-coffee-master-blend/ID=prod6118209-product\" id=\"title-secondary-0compare_sku6103809\" name=\"product-title\" title=\"Maxwell House Ground Coffee Master Blend\"><span class=\"sr-only\" data-reactid=\"1131\">Shop </span><!-- react-text: 1132 -->Maxwell House Ground Coffee Master Blend<!-- /react-text --><!-- react-text: 1133 --> <!-- /react-text --><span class=\"sr-only \" data-reactid=\"1134\"><!-- react-text: 1135 --> (<!-- /react-text --><!-- react-text: 1136 -->30.6 oz <!-- /react-text --><!-- react-text: 1137 -->)<!-- /react-text --></span></a><span class=\"wag-prod-size body-copy__fourteen\" data-reactid=\"1138\" id=\"product-sizecompare_sku6103809\" name=\"wagproductsize\"><!-- react-text: 1139 -->30.6 oz <!-- /react-text --><!-- react-text: 1140 --><!-- /react-text --></span></div></div><div class=\"productcard-space-btmfas\" data-reactid=\"1141\"><div class=\"wag-prod-review-info mb15\" data-reactid=\"1142\" name=\"wagproductreview\"><div class=\"flex-align-center wag-prod-ratings\" data-reactid=\"1143\"><span data-reactid=\"1144\"><img alt=\"4.4 out of 5, total 134reviews\" class=\"wag-familyoffer-productsimg ratings-image-height ratingsImgLazy reviewbazar\" data-reactid=\"1145\" height=\"13 \" id=\"reviewbazarcompare_sku6103809\" src=\"//www.walgreens.com//images/adaptive/bvrating/rating-4_4.gif\" title=\"4.4 out of 5\" width=\"70 \"/></span><span class=\"body-copy__fourteen pl5\" data-reactid=\"1146\"><!-- react-text: 1147 -->(<!-- /react-text --><!-- react-text: 1148 -->134<!-- /react-text --><!-- react-text: 1149 -->)<!-- /react-text --></span></div></div><div data-reactid=\"1150\"><div class=\"wag-prod-price-info mb5\" data-reactid=\"1151\" name=\"wagproductprice\"><div data-reactid=\"1152\" tabindex=\"0\"><div class=\"wag-prodprice-info-0\" data-reactid=\"1153\" id=\"sales-pricecompare_sku6103809\" name=\"sales-price\"><span class=\"price__contain flex-box-wrap product__regularprice\" data-reactid=\"1154\"><span class=\"product__price product__price-red flex-box-wrap\" data-reactid=\"1155\"><span class=\"product__price product__price-red\"><sup>$</sup>4<sup>99</sup></span></span><span class=\"body-copy__fourteen wag-prod-unit-price\" data-reactid=\"1156\"><!-- react-text: 1157 -->  <!-- /react-text --><!-- react-text: 1158 -->$0.16<!-- /react-text --><!-- react-text: 1159 --> <!-- /react-text --><span data-reactid=\"1160\">/ oz</span></span></span></div><div class=\"wag-prodprice-info-0\" data-reactid=\"1161\"><span class=\"wag-reg-sale-price wag-block\" data-reactid=\"1162\">$10.99</span></div><span class=\"sr-only\" data-reactid=\"1163\"><!-- react-text: 1164 --> Sale price is <!-- /react-text --><!-- react-text: 1165 -->$4 and 99 cents<!-- /react-text --><span data-reactid=\"1166\"><!-- react-text: 1167 -->And Regular price is <!-- /react-text --><!-- react-text: 1168 -->$10 and 99 cents<!-- /react-text --></span></span></div></div></div><div class=\"wag-offers-group mb15 body-copy__fourteen\" data-reactid=\"1169\" name=\"wagoffermsg\"><div class=\"wag-coupon-code\" data-reactid=\"1170\" id=\"couponprod6118209\"></div><div class=\"wag-gift-purchase\" data-reactid=\"1171\"></div></div></div><div class=\"wag-channal-availability\" data-reactid=\"1172\"><div data-reactid=\"1173\"><p class=\"wag-channal-availabilitytxt\" data-reactid=\"1174\" id=\"not-sold-in-store prod6118209\" name=\"not-sold-in-store compare_sku6103809\">Not sold in stores</p><a data-reactid=\"1175\" href=\"javascript:void(0)\" id=\"add-to-cart-btncompare_sku6103809\" name=\"add-to-cart-btn\" role=\"button\"><span class=\"btn btn__blue\" data-reactid=\"1176\"><!-- react-text: 1177 -->Add to cart<!-- /react-text --><span class=\"sr-only\" data-reactid=\"1178\">will open overlay</span></span></a></div></div></div><div class=\" wag-pos-rel check-box\" data-reactid=\"1179\" id=\"compare_compare_sku6103809\" name=\"compareproducts\"><input data-reactid=\"1180\" id=\"compare_sku6103809\" name=\"compare_sku6103809\" type=\"checkbox\"/><label class=\"compare_label\" data-reactid=\"1181\" for=\"compare_sku6103809\" id=\"compare-offcompare_sku6103809\" name=\"compare-off\"><span class=\"check\" data-reactid=\"1182\"></span><span data-reactid=\"1183\">Compare</span></label></div><div class=\"\" data-reactid=\"1184\"><!-- react-text: 1185 --> <!-- /react-text --><div class=\"\" data-reactid=\"1186\"></div></div></div></div></div></div>, <div class=\"col-xl-3 col-lg-3 col-md-6 col-sm-6 col-6 product-column pr0\" data-reactid=\"1189\" id=\"productcardprod6213455\"><div class=\"wag-product-cards wag-pos-rel\" data-reactid=\"1190\"><div class=\"wag-prod-card-btm wag-pos-rel\" data-reactid=\"1191\" id=\"productcardheightprod6213455\"><div class=\"beagleprod\" data-reactid=\"1192\"></div><div class=\"wag-product-card-details wag-product-card-width_b\" data-reactid=\"1193\" id=\"productcard4\"><div class=\"text-center mb20\" data-reactid=\"1194\"><a data-reactid=\"1195\" href=\"/store/c/cheerios-honey-nut-medley-crunch-cereal/ID=prod6213455-product\" id=\"productOmniSelectcompare_sku6186813\" title=\"Cheerios Honey Nut Medley Crunch Cereal (13.1 oz )\"><img alt=\"Cheerios Honey Nut Medley Crunch Cereal\" class=\"img-responsive wag-familyoffer-productsimg imglazy \" data-reactid=\"1196\" id=\"secImgcompare_sku6186813\" src=\"//pics.drugstore.com/prodimg/509298/155.jpg\"/><span class=\"sr-only\" data-reactid=\"1197\"><!-- react-text: 1198 -->Cheerios Honey Nut Medley Crunch Cereal<!-- /react-text --><!-- react-text: 1199 --> (<!-- /react-text --><!-- react-text: 1200 -->13.1 oz <!-- /react-text --><!-- react-text: 1201 -->)<!-- /react-text --></span><span aria-hidden=\"true\" class=\"sr-only\" data-reactid=\"1202\">Cheerios Honey Nut Medley Crunch Cereal</span></a></div><div class=\"\" data-reactid=\"1203\"><div class=\"wag-pro-grp-elements\" data-reactid=\"1204\"><div class=\"wag-prod-title wag-product-title-description wag-prodwratings wag-hn-lt-55roman mb15\" data-reactid=\"1205\" name=\"wagproducttitle\"><a data-reactid=\"1206\" href=\"/store/c/cheerios-honey-nut-medley-crunch-cereal/ID=prod6213455-product\" id=\"title-secondary-0compare_sku6186813\" name=\"product-title\" title=\"Cheerios Honey Nut Medley Crunch Cereal\"><span class=\"sr-only\" data-reactid=\"1207\">Shop </span><!-- react-text: 1208 -->Cheerios Honey Nut Medley Crunch Cereal<!-- /react-text --><!-- react-text: 1209 --> <!-- /react-text --><span class=\"sr-only \" data-reactid=\"1210\"><!-- react-text: 1211 --> (<!-- /react-text --><!-- react-text: 1212 -->13.1 oz <!-- /react-text --><!-- react-text: 1213 -->)<!-- /react-text --></span></a><span class=\"wag-prod-size body-copy__fourteen\" data-reactid=\"1214\" id=\"product-sizecompare_sku6186813\" name=\"wagproductsize\"><!-- react-text: 1215 -->13.1 oz <!-- /react-text --><!-- react-text: 1216 --><!-- /react-text --></span></div></div><div class=\"productcard-space-btmfas\" data-reactid=\"1217\"><div class=\"wag-prod-review-info mb15\" data-reactid=\"1218\" name=\"wagproductreview\"><div class=\"flex-align-center wag-prod-ratings\" data-reactid=\"1219\"><span data-reactid=\"1220\"><img alt=\"5.0 out of 5, total 1reviews\" class=\"wag-familyoffer-productsimg ratings-image-height ratingsImgLazy reviewbazar\" data-reactid=\"1221\" height=\"13 \" id=\"reviewbazarcompare_sku6186813\" src=\"//www.walgreens.com//images/adaptive/bvrating/rating-5_0.gif\" title=\"5.0 out of 5\" width=\"70 \"/></span><span class=\"body-copy__fourteen pl5\" data-reactid=\"1222\"><!-- react-text: 1223 -->(<!-- /react-text --><!-- react-text: 1224 -->1<!-- /react-text --><!-- react-text: 1225 -->)<!-- /react-text --></span></div></div><div data-reactid=\"1226\"><div class=\"wag-prod-price-info mb5\" data-reactid=\"1227\" name=\"wagproductprice\"><div data-reactid=\"1228\" tabindex=\"0\"><div class=\"wag-prodprice-info-0\" data-reactid=\"1229\" id=\"sales-pricecompare_sku6186813\" name=\"sales-price\"><span class=\"price__contain flex-box-wrap product__regularprice\" data-reactid=\"1230\"><span class=\"product__price product__price-red flex-box-wrap\" data-reactid=\"1231\"><span class=\"product__price product__price-red\"><sup>$</sup>1<sup>99</sup></span></span><span class=\"body-copy__fourteen wag-prod-unit-price\" data-reactid=\"1232\"><!-- react-text: 1233 -->  <!-- /react-text --><!-- react-text: 1234 -->$0.15<!-- /react-text --><!-- react-text: 1235 --> <!-- /react-text --><span data-reactid=\"1236\">/ oz</span></span></span></div><div class=\"wag-prodprice-info-0\" data-reactid=\"1237\"><span class=\"wag-reg-sale-price wag-block\" data-reactid=\"1238\">2/$7.00 or 1/$4.29</span></div><span class=\"sr-only\" data-reactid=\"1239\"><!-- react-text: 1240 --> Sale price is <!-- /react-text --><!-- react-text: 1241 -->$1 and 99 cents<!-- /react-text --><span data-reactid=\"1242\"><!-- react-text: 1243 -->And Regular price is <!-- /react-text --><!-- react-text: 1244 -->2/$7 and 00 or 1/$4 cents<!-- /react-text --></span></span></div></div></div><div class=\"wag-offers-group mb15 body-copy__fourteen\" data-reactid=\"1245\" name=\"wagoffermsg\"><div class=\"wag-coupon-code\" data-reactid=\"1246\" id=\"couponprod6213455\"><span class=\"ellipsis\" data-reactid=\"1247\"><a data-reactid=\"1248\" href=\"javascript:void(0)\" name=\"coupondetailsclick\" title=\"SAVE $1 ON TWO Coupon\">SAVE $1 ON TWO Coupon</a></span></div><div class=\"wag-gift-purchase\" data-reactid=\"1249\"></div></div></div><div class=\"wag-channal-availability\" data-reactid=\"1250\"><div data-reactid=\"1251\"><p class=\"wag-channal-availabilitytxt\" data-reactid=\"1252\" id=\"not-sold-in-store prod6213455\" name=\"not-sold-in-store compare_sku6186813\">Not sold in stores</p><p class=\"wag-channal-availabilitytxt\" data-reactid=\"1253\" id=\"out-of-stock-onlinecompare_sku6186813\" name=\"out-of-stock-online compare_sku6186813\">Out of stock online</p></div></div></div><div class=\" wag-pos-rel check-box\" data-reactid=\"1254\" id=\"compare_compare_sku6186813\" name=\"compareproducts\"><input data-reactid=\"1255\" id=\"compare_sku6186813\" name=\"compare_sku6186813\" type=\"checkbox\"/><label class=\"compare_label\" data-reactid=\"1256\" for=\"compare_sku6186813\" id=\"compare-offcompare_sku6186813\" name=\"compare-off\"><span class=\"check\" data-reactid=\"1257\"></span><span data-reactid=\"1258\">Compare</span></label></div><div class=\"\" data-reactid=\"1259\"><!-- react-text: 1260 --> <!-- /react-text --><div class=\"\" data-reactid=\"1261\"></div></div></div></div></div></div>, <div class=\"col-xl-3 col-lg-3 col-md-6 col-sm-6 col-6 product-column pr0\" data-reactid=\"1262\" id=\"productcardprod6334522\"><div class=\"wag-product-cards wag-pos-rel\" data-reactid=\"1263\"><div class=\"wag-prod-card-btm wag-pos-rel\" data-reactid=\"1264\" id=\"productcardheightprod6334522\"><div class=\"beagleprod\" data-reactid=\"1265\"></div><div class=\"wag-product-card-details wag-product-card-width_b\" data-reactid=\"1266\" id=\"productcard5\"><div class=\"text-center mb20\" data-reactid=\"1267\"><a data-reactid=\"1268\" href=\"/store/c/nescafe-taster's-choice-instant-coffee-decaf-house-blend/ID=prod6334522-product\" id=\"productOmniSelectcompare_sku6278974\" title=\"Nescafe Taster's Choice Instant Coffee Decaf House Blend (7 oz )\"><img alt=\"Nescafe Taster's Choice Instant Coffee Decaf House Blend\" class=\"img-responsive wag-familyoffer-productsimg imglazy \" data-reactid=\"1269\" id=\"secImgcompare_sku6278974\" src=\"//pics.drugstore.com/prodimg/584800/155.jpg\"/><span class=\"sr-only\" data-reactid=\"1270\"><!-- react-text: 1271 -->Nescafe Taster's Choice Instant Coffee Decaf House Blend<!-- /react-text --><!-- react-text: 1272 --> (<!-- /react-text --><!-- react-text: 1273 -->7 oz <!-- /react-text --><!-- react-text: 1274 -->)<!-- /react-text --></span><span aria-hidden=\"true\" class=\"sr-only\" data-reactid=\"1275\">Nescafe Taster's Choice Instant Coffee Decaf House Blend</span></a></div><div class=\"\" data-reactid=\"1276\"><div class=\"wag-pro-grp-elements\" data-reactid=\"1277\"><div class=\"wag-prod-title wag-product-title-description wag-prodwratings wag-hn-lt-55roman mb15\" data-reactid=\"1278\" name=\"wagproducttitle\"><a data-reactid=\"1279\" href=\"/store/c/nescafe-taster's-choice-instant-coffee-decaf-house-blend/ID=prod6334522-product\" id=\"title-secondary-0compare_sku6278974\" name=\"product-title\" title=\"Nescafe Taster's Choice Instant Coffee Decaf House Blend\"><span class=\"sr-only\" data-reactid=\"1280\">Shop </span><!-- react-text: 1281 -->Nescafe Taster's Choice Instant Coffee Decaf House Blend<!-- /react-text --><!-- react-text: 1282 --> <!-- /react-text --><span class=\"sr-only \" data-reactid=\"1283\"><!-- react-text: 1284 --> (<!-- /react-text --><!-- react-text: 1285 -->7 oz <!-- /react-text --><!-- react-text: 1286 -->)<!-- /react-text --></span></a><span class=\"wag-prod-size body-copy__fourteen\" data-reactid=\"1287\" id=\"product-sizecompare_sku6278974\" name=\"wagproductsize\"><!-- react-text: 1288 -->7 oz <!-- /react-text --><!-- react-text: 1289 --><!-- /react-text --></span></div></div><div class=\"productcard-space-btmfas\" data-reactid=\"1290\"><div class=\"wag-prod-review-info mb15\" data-reactid=\"1291\" name=\"wagproductreview\"><div class=\"flex-align-center wag-prod-ratings\" data-reactid=\"1292\"><span data-reactid=\"1293\"><img alt=\"4.6 out of 5, total 102reviews\" class=\"wag-familyoffer-productsimg ratings-image-height ratingsImgLazy reviewbazar\" data-reactid=\"1294\" height=\"13 \" id=\"reviewbazarcompare_sku6278974\" src=\"//www.walgreens.com//images/adaptive/bvrating/rating-4_6.gif\" title=\"4.6 out of 5\" width=\"70 \"/></span><span class=\"body-copy__fourteen pl5\" data-reactid=\"1295\"><!-- react-text: 1296 -->(<!-- /react-text --><!-- react-text: 1297 -->102<!-- /react-text --><!-- react-text: 1298 -->)<!-- /react-text --></span></div></div><div data-reactid=\"1299\"><div class=\"wag-prod-price-info mb5\" data-reactid=\"1300\" name=\"wagproductprice\"><div data-reactid=\"1301\" tabindex=\"0\"><div class=\"wag-prodprice-info-0\" data-reactid=\"1302\" id=\"sales-pricecompare_sku6278974\" name=\"sales-price\"><span class=\"price__contain flex-box-wrap product__regularprice\" data-reactid=\"1303\"><span class=\"product__price product__price-red flex-box-wrap\" data-reactid=\"1304\"><span class=\"product__price product__price-red\"><sup>$</sup>6<sup>99</sup></span></span><span class=\"body-copy__fourteen wag-prod-unit-price\" data-reactid=\"1305\"><!-- react-text: 1306 -->  <!-- /react-text --><!-- react-text: 1307 -->$1.00<!-- /react-text --><!-- react-text: 1308 --> <!-- /react-text --><span data-reactid=\"1309\">/ oz</span></span></span></div><div class=\"wag-prodprice-info-0\" data-reactid=\"1310\"><span class=\"wag-reg-sale-price wag-block\" data-reactid=\"1311\">$8.99</span></div><span class=\"sr-only\" data-reactid=\"1312\"><!-- react-text: 1313 --> Sale price is <!-- /react-text --><!-- react-text: 1314 -->$6 and 99 cents<!-- /react-text --><span data-reactid=\"1315\"><!-- react-text: 1316 -->And Regular price is <!-- /react-text --><!-- react-text: 1317 -->$8 and 99 cents<!-- /react-text --></span></span></div></div></div><div class=\"wag-offers-group mb15 body-copy__fourteen\" data-reactid=\"1318\" name=\"wagoffermsg\"><div class=\"wag-coupon-code\" data-reactid=\"1319\" id=\"couponprod6334522\"></div><div class=\"wag-gift-purchase\" data-reactid=\"1320\"></div></div></div><div class=\"wag-channal-availability\" data-reactid=\"1321\"><div data-reactid=\"1322\"><a data-reactid=\"1323\" href=\"javascript:void(0)\" id=\"find-at-store-btncompare_sku6278974\" name=\"find-at-store-btn\" role=\"button\"><span class=\"btn btn__tint-blue\" data-reactid=\"1324\">Find at a store</span></a><a data-reactid=\"1325\" href=\"javascript:void(0)\" id=\"add-to-cart-btncompare_sku6278974\" name=\"add-to-cart-btn\" role=\"button\"><span class=\"btn btn__blue\" data-reactid=\"1326\"><!-- react-text: 1327 -->Add to cart<!-- /react-text --><span class=\"sr-only\" data-reactid=\"1328\">will open overlay</span></span></a></div></div></div><div class=\" wag-pos-rel check-box\" data-reactid=\"1329\" id=\"compare_compare_sku6278974\" name=\"compareproducts\"><input data-reactid=\"1330\" id=\"compare_sku6278974\" name=\"compare_sku6278974\" type=\"checkbox\"/><label class=\"compare_label\" data-reactid=\"1331\" for=\"compare_sku6278974\" id=\"compare-offcompare_sku6278974\" name=\"compare-off\"><span class=\"check\" data-reactid=\"1332\"></span><span data-reactid=\"1333\">Compare</span></label></div><div class=\"\" data-reactid=\"1334\"><!-- react-text: 1335 --> <!-- /react-text --><div class=\"\" data-reactid=\"1336\"></div></div></div></div></div></div>, <div class=\"col-xl-3 col-lg-3 col-md-6 col-sm-6 col-6 product-column pr0\" data-reactid=\"1337\" id=\"productcardprod6112661\"><div class=\"wag-product-cards wag-pos-rel\" data-reactid=\"1338\"><div class=\"wag-prod-card-btm wag-pos-rel\" data-reactid=\"1339\" id=\"productcardheightprod6112661\"><div class=\"beagleprod\" data-reactid=\"1340\"></div><div class=\"wag-product-card-details wag-product-card-width_b\" data-reactid=\"1341\" id=\"productcard6\"><div class=\"text-center mb20\" data-reactid=\"1342\"><a data-reactid=\"1343\" href=\"/store/c/raisin-bran-cereal/ID=prod6112661-product\" id=\"productOmniSelectcompare_sku6099325\" title=\"Raisin Bran Cereal (13.7 oz )\"><img alt=\"Raisin Bran Cereal\" class=\"img-responsive wag-familyoffer-productsimg imglazy \" data-reactid=\"1344\" id=\"secImgcompare_sku6099325\" src=\"//pics.drugstore.com/prodimg/446938/155.jpg\"/><span class=\"sr-only\" data-reactid=\"1345\"><!-- react-text: 1346 -->Raisin Bran Cereal<!-- /react-text --><!-- react-text: 1347 --> (<!-- /react-text --><!-- react-text: 1348 -->13.7 oz <!-- /react-text --><!-- react-text: 1349 -->)<!-- /react-text --></span><span aria-hidden=\"true\" class=\"sr-only\" data-reactid=\"1350\">Raisin Bran Cereal</span></a></div><div class=\"\" data-reactid=\"1351\"><div class=\"wag-pro-grp-elements\" data-reactid=\"1352\"><div class=\"wag-prod-title wag-product-title-description wag-prodwratings wag-hn-lt-55roman mb15\" data-reactid=\"1353\" name=\"wagproducttitle\"><a data-reactid=\"1354\" href=\"/store/c/raisin-bran-cereal/ID=prod6112661-product\" id=\"title-secondary-0compare_sku6099325\" name=\"product-title\" title=\"Raisin Bran Cereal\"><span class=\"sr-only\" data-reactid=\"1355\">Shop </span><!-- react-text: 1356 -->Raisin Bran Cereal<!-- /react-text --><!-- react-text: 1357 --> <!-- /react-text --><span class=\"sr-only \" data-reactid=\"1358\"><!-- react-text: 1359 --> (<!-- /react-text --><!-- react-text: 1360 -->13.7 oz <!-- /react-text --><!-- react-text: 1361 -->)<!-- /react-text --></span></a><span class=\"wag-prod-size body-copy__fourteen\" data-reactid=\"1362\" id=\"product-sizecompare_sku6099325\" name=\"wagproductsize\"><!-- react-text: 1363 -->13.7 oz <!-- /react-text --><!-- react-text: 1364 --><!-- /react-text --></span></div></div><div class=\"productcard-space-btmfas\" data-reactid=\"1365\"><div class=\"wag-prod-review-info mb15\" data-reactid=\"1366\" name=\"wagproductreview\"><div class=\"flex-align-center wag-prod-ratings\" data-reactid=\"1367\"><span data-reactid=\"1368\"><img alt=\"4.9 out of 5, total 237reviews\" class=\"wag-familyoffer-productsimg ratings-image-height ratingsImgLazy reviewbazar\" data-reactid=\"1369\" height=\"13 \" id=\"reviewbazarcompare_sku6099325\" src=\"//www.walgreens.com//images/adaptive/bvrating/rating-4_9.gif\" title=\"4.9 out of 5\" width=\"70 \"/></span><span class=\"body-copy__fourteen pl5\" data-reactid=\"1370\"><!-- react-text: 1371 -->(<!-- /react-text --><!-- react-text: 1372 -->237<!-- /react-text --><!-- react-text: 1373 -->)<!-- /react-text --></span></div></div><div data-reactid=\"1374\"><div class=\"wag-prod-price-info mb5\" data-reactid=\"1375\" name=\"wagproductprice\"><div class=\"priceInfoMsgCls\" data-reactid=\"1376\" id=\"weeklyadmessagecompare_sku6099325\"><span class=\"wag-price-msg body-copy__fourteen\" data-reactid=\"1377\">Price available in store </span></div><div class=\"wag-prodprice-info-0\" data-reactid=\"1378\" id=\"regular-pricecompare_sku6099325\" name=\"regular-price\" tabindex=\"0\"><span class=\"price__contain flex-box-wrap product__regularprice\" data-reactid=\"1379\"><span class=\"product__price flex-box-wrap\" data-reactid=\"1380\"></span></span></div></div></div><div class=\"wag-offers-group mb15 body-copy__fourteen\" data-reactid=\"1381\" name=\"wagoffermsg\"><div class=\"wag-coupon-code\" data-reactid=\"1382\" id=\"couponprod6112661\"></div><div class=\"wag-gift-purchase\" data-reactid=\"1383\"></div></div></div><div class=\"wag-channal-availability\" data-reactid=\"1384\"><div data-reactid=\"1385\"><a data-reactid=\"1386\" href=\"javascript:void(0)\" id=\"find-at-store-btncompare_sku6099325\" name=\"find-at-store-btn\" role=\"button\"><span class=\"btn btn__tint-blue\" data-reactid=\"1387\">Find at a store</span></a><p class=\"wag-channal-availabilitytxt\" data-reactid=\"1388\" id=\"not-sold-onlinecompare_sku6099325\" name=\"not-sold-online compare_sku6099325\">Not sold online</p></div></div></div><div class=\" wag-pos-rel check-box\" data-reactid=\"1389\" id=\"compare_compare_sku6099325\" name=\"compareproducts\"><input data-reactid=\"1390\" id=\"compare_sku6099325\" name=\"compare_sku6099325\" type=\"checkbox\"/><label class=\"compare_label\" data-reactid=\"1391\" for=\"compare_sku6099325\" id=\"compare-offcompare_sku6099325\" name=\"compare-off\"><span class=\"check\" data-reactid=\"1392\"></span><span data-reactid=\"1393\">Compare</span></label></div><div class=\"\" data-reactid=\"1394\"><!-- react-text: 1395 --> <!-- /react-text --><div class=\"\" data-reactid=\"1396\"></div></div></div></div></div></div>, <div class=\"col-xl-3 col-lg-3 col-md-6 col-sm-6 col-6 product-column pr0\" data-reactid=\"1397\" id=\"productcardprod6111671\"><div class=\"wag-product-cards wag-pos-rel\" data-reactid=\"1398\"><div class=\"wag-prod-card-btm wag-pos-rel\" data-reactid=\"1399\" id=\"productcardheightprod6111671\"><div class=\"beagleprod\" data-reactid=\"1400\"></div><div class=\"wag-product-card-details wag-product-card-width_b\" data-reactid=\"1401\" id=\"productcard7\"><div class=\"text-center mb20\" data-reactid=\"1402\"><a data-reactid=\"1403\" href=\"/store/c/cheez-it-baked-snack-crackers/ID=prod6111671-product\" id=\"productOmniSelectcompare_sku6098459\" title=\"Cheez-It Baked Snack Crackers (7 oz )\"><img alt=\"Cheez-It Baked Snack Crackers\" class=\"img-responsive wag-familyoffer-productsimg imglazy \" data-reactid=\"1404\" id=\"secImgcompare_sku6098459\" src=\"//pics.drugstore.com/prodimg/435674/155.jpg\"/><span class=\"sr-only\" data-reactid=\"1405\"><!-- react-text: 1406 -->Cheez-It Baked Snack Crackers<!-- /react-text --><!-- react-text: 1407 --> (<!-- /react-text --><!-- react-text: 1408 -->7 oz <!-- /react-text --><!-- react-text: 1409 -->)<!-- /react-text --></span><span aria-hidden=\"true\" class=\"sr-only\" data-reactid=\"1410\">Cheez-It Baked Snack Crackers</span></a></div><div class=\"\" data-reactid=\"1411\"><div class=\"wag-pro-grp-elements\" data-reactid=\"1412\"><div class=\"wag-prod-title wag-product-title-description wag-prodwratings wag-hn-lt-55roman mb15\" data-reactid=\"1413\" name=\"wagproducttitle\"><a data-reactid=\"1414\" href=\"/store/c/cheez-it-baked-snack-crackers/ID=prod6111671-product\" id=\"title-secondary-0compare_sku6098459\" name=\"product-title\" title=\"Cheez-It Baked Snack Crackers\"><span class=\"sr-only\" data-reactid=\"1415\">Shop </span><!-- react-text: 1416 -->Cheez-It Baked Snack Crackers<!-- /react-text --><!-- react-text: 1417 --> <!-- /react-text --><span class=\"sr-only \" data-reactid=\"1418\"><!-- react-text: 1419 --> (<!-- /react-text --><!-- react-text: 1420 -->7 oz <!-- /react-text --><!-- react-text: 1421 -->)<!-- /react-text --></span></a><span class=\"wag-prod-size body-copy__fourteen\" data-reactid=\"1422\" id=\"product-sizecompare_sku6098459\" name=\"wagproductsize\"><!-- react-text: 1423 -->7 oz <!-- /react-text --><!-- react-text: 1424 --><!-- /react-text --></span></div></div><div class=\"productcard-space-btmfas\" data-reactid=\"1425\"><div class=\"wag-prod-review-info mb15\" data-reactid=\"1426\" name=\"wagproductreview\"><div class=\"flex-align-center wag-prod-ratings\" data-reactid=\"1427\"><span data-reactid=\"1428\"><img alt=\"4.9 out of 5, total 733reviews\" class=\"wag-familyoffer-productsimg ratings-image-height ratingsImgLazy reviewbazar\" data-reactid=\"1429\" height=\"13 \" id=\"reviewbazarcompare_sku6098459\" src=\"//www.walgreens.com//images/adaptive/bvrating/rating-4_9.gif\" title=\"4.9 out of 5\" width=\"70 \"/></span><span class=\"body-copy__fourteen pl5\" data-reactid=\"1430\"><!-- react-text: 1431 -->(<!-- /react-text --><!-- react-text: 1432 -->733<!-- /react-text --><!-- react-text: 1433 -->)<!-- /react-text --></span></div></div><div data-reactid=\"1434\"><div class=\"wag-prod-price-info mb5\" data-reactid=\"1435\" name=\"wagproductprice\"><div class=\"wag-prodprice-info-0\" data-reactid=\"1436\" id=\"regular-pricecompare_sku6098459\" name=\"regular-price\" tabindex=\"0\"><span class=\"price__contain flex-box-wrap product__regularprice\" data-reactid=\"1437\"><span class=\"product__price flex-box-wrap\" data-reactid=\"1438\"><span class=\"product__price or-price\"> <div> <sup>2/</sup><sup>$</sup>5<sup>00</sup></div><sub> or </sub><div><sup>1/</sup> <sup>$</sup>3<sup>29</sup></div><span class=\"sr-only\">2 for 5 dollars and 00 cents or 1 for 3 dollars and 29 cents</span> </span></span><span class=\"sr-only\" data-reactid=\"1439\">2/$5.00 or 1/$3.29</span><span class=\"wag-prod-unit-price body-copy__fourteen\" data-reactid=\"1440\"><!-- react-text: 1441 -->$0.47<!-- /react-text --><!-- react-text: 1442 --> <!-- /react-text --><span data-reactid=\"1443\">/ oz</span></span></span></div></div></div><div class=\"wag-offers-group mb15 body-copy__fourteen\" data-reactid=\"1444\" name=\"wagoffermsg\"><div class=\"wag-coupon-code\" data-reactid=\"1445\" id=\"couponprod6111671\"></div><div class=\"wag-gift-purchase\" data-reactid=\"1446\"></div></div></div><div class=\"wag-channal-availability\" data-reactid=\"1447\"><div data-reactid=\"1448\"><a data-reactid=\"1449\" href=\"javascript:void(0)\" id=\"find-at-store-btncompare_sku6098459\" name=\"find-at-store-btn\" role=\"button\"><span class=\"btn btn__tint-blue\" data-reactid=\"1450\">Find at a store</span></a><a data-reactid=\"1451\" href=\"javascript:void(0)\" id=\"add-to-cart-btncompare_sku6098459\" name=\"add-to-cart-btn\" role=\"button\"><span class=\"btn btn__blue\" data-reactid=\"1452\"><!-- react-text: 1453 -->Add to cart<!-- /react-text --><span class=\"sr-only\" data-reactid=\"1454\">will open overlay</span></span></a></div></div></div><div class=\" wag-pos-rel check-box\" data-reactid=\"1455\" id=\"compare_compare_sku6098459\" name=\"compareproducts\"><input data-reactid=\"1456\" id=\"compare_sku6098459\" name=\"compare_sku6098459\" type=\"checkbox\"/><label class=\"compare_label\" data-reactid=\"1457\" for=\"compare_sku6098459\" id=\"compare-offcompare_sku6098459\" name=\"compare-off\"><span class=\"check\" data-reactid=\"1458\"></span><span data-reactid=\"1459\">Compare</span></label></div><div class=\"\" data-reactid=\"1460\"><!-- react-text: 1461 --> <!-- /react-text --><div class=\"\" data-reactid=\"1462\"></div></div></div></div></div></div>]\n",
            "7\n"
          ],
          "name": "stdout"
        }
      ]
    },
    {
      "cell_type": "code",
      "metadata": {
        "id": "bI6tq-461ynH",
        "colab_type": "code",
        "colab": {
          "base_uri": "https://localhost:8080/",
          "height": 54
        },
        "outputId": "ae15ccc1-b80d-48f3-cd43-eded03e4fac3"
      },
      "source": [
        "import re\n",
        "item_divs = soup.find_all('div', id=re.compile(\"productcardprod\"))\n",
        "#print(item_divs)\n",
        "url_links = [item.find('a', id=re.compile(\"productOmniSelectcompare\")).get('href', '') for item in item_divs]\n",
        "print(url_links)"
      ],
      "execution_count": null,
      "outputs": [
        {
          "output_type": "stream",
          "text": [
            "['/store/c/lorna-doone-shortbread-cookies-shortbread/ID=prod6296304-product', '/store/c/golden-grahams-cereal/ID=prod6383175-product', '/store/c/maxwell-house-ground-coffee-master-blend/ID=prod6118209-product', '/store/c/cheerios-honey-nut-medley-crunch-cereal/ID=prod6213455-product', \"/store/c/nescafe-taster's-choice-instant-coffee-decaf-house-blend/ID=prod6334522-product\", '/store/c/raisin-bran-cereal/ID=prod6112661-product', '/store/c/cheez-it-baked-snack-crackers/ID=prod6111671-product']\n"
          ],
          "name": "stdout"
        }
      ]
    },
    {
      "cell_type": "markdown",
      "metadata": {
        "id": "d8LkBtS1kAw7",
        "colab_type": "text"
      },
      "source": [
        "## Extract Item details from one item url"
      ]
    },
    {
      "cell_type": "code",
      "metadata": {
        "id": "vLqWVpn2MiLY",
        "colab_type": "code",
        "colab": {
          "base_uri": "https://localhost:8080/",
          "height": 34
        },
        "outputId": "7419592a-3953-4963-a94b-1075c96bc9bb"
      },
      "source": [
        "# Extract item detail from one product\n",
        "base_url = \"https://www.walgreens.com\"\n",
        "item1 = url_links[0]\n",
        "item1_url = \"{}{}\".format(base_url,item1)\n",
        "print(item1_url)\n",
        "\n"
      ],
      "execution_count": null,
      "outputs": [
        {
          "output_type": "stream",
          "text": [
            "https://www.walgreens.com/store/c/lorna-doone-shortbread-cookies-shortbread/ID=prod6296304-product\n"
          ],
          "name": "stdout"
        }
      ]
    },
    {
      "cell_type": "code",
      "metadata": {
        "id": "yN9DkIjDXS8z",
        "colab_type": "code",
        "colab": {}
      },
      "source": [
        "r = requests.get(item1_url)\n",
        "\n",
        "# Convert to a beautiful soup object\n",
        "item_soup = bs(r.content)\n",
        "item_dict = dict()\n",
        "item_dict[\"categoricalFeatures\"] = {}\n",
        "item_dict[\"textFeatures\"] = {}\n",
        "item_dict[\"numericalFeatures\"] = {}\n"
      ],
      "execution_count": null,
      "outputs": []
    },
    {
      "cell_type": "code",
      "metadata": {
        "id": "gLUmKAmbXYJo",
        "colab_type": "code",
        "colab": {}
      },
      "source": [
        "# Get Name\n",
        "item_name = item_soup.find(id='productName').find('span').getText()\n",
        "item_dict[\"textFeatures\"][\"name\"] = item_name"
      ],
      "execution_count": null,
      "outputs": []
    },
    {
      "cell_type": "code",
      "metadata": {
        "id": "GvbSxLyQZKdY",
        "colab_type": "code",
        "colab": {}
      },
      "source": [
        "# Get Image URL\n",
        "item_img_url = item_soup.find(id='productImg').get('src')\n",
        "item_dict[\"image_url\"] = item_img_url"
      ],
      "execution_count": null,
      "outputs": []
    },
    {
      "cell_type": "code",
      "metadata": {
        "id": "kdjtJVYEbEvF",
        "colab_type": "code",
        "colab": {}
      },
      "source": [
        "# Get Brand\n",
        "item_brand = item_soup.find('a',attrs={'class':'brand-title'}).find('strong').getText()\n",
        "item_dict[\"categoricalFeatures\"][\"brand\"] = {\"values\":[item_brand]}"
      ],
      "execution_count": null,
      "outputs": []
    },
    {
      "cell_type": "code",
      "metadata": {
        "id": "tL_iJcYMcHUI",
        "colab_type": "code",
        "colab": {}
      },
      "source": [
        "# Get Categories\n",
        "item_cat_list = item_soup.find('ul',attrs={'class':'nav__bread-crumbs'}).findAll('li')\n",
        "item_cat_list_formatted = [cat.getText() for cat in item_cat_list]\n",
        "remaining_list = item_cat_list_formatted[item_cat_list_formatted.index(\"Grocery\"):]\n",
        "item_dict[\"categoricalFeatures\"][\"category\"] = {\"values\":remaining_list}"
      ],
      "execution_count": null,
      "outputs": []
    },
    {
      "cell_type": "code",
      "metadata": {
        "id": "xfyf1-52ePib",
        "colab_type": "code",
        "colab": {}
      },
      "source": [
        "# Get Price\n",
        "price_list = item_soup.find('div',attrs={'id':'product'}).find('span',attrs={'class':'product__price'}).findAll()\n",
        "price_list_formatted = [price.getText() for price in price_list]\n",
        "price_string = \"{}{}\".format(price_list_formatted[0], '.'.join(price_list_formatted[1:]))\n",
        "item_dict[\"numericalFeatures\"][\"price\"] = price_string"
      ],
      "execution_count": null,
      "outputs": []
    },
    {
      "cell_type": "code",
      "metadata": {
        "id": "kbYiOGWbgnfT",
        "colab_type": "code",
        "colab": {}
      },
      "source": [
        "# Get Rating\n",
        "rating_val = item_soup.find('div', id=\"prodBV\").find('span').get('aria-label').split()[0]\n",
        "item_dict[\"numericalFeatures\"][\"rating\"] = rating_val"
      ],
      "execution_count": null,
      "outputs": []
    },
    {
      "cell_type": "code",
      "metadata": {
        "id": "ZgqfQ1_rkrBx",
        "colab_type": "code",
        "colab": {}
      },
      "source": [
        "# Get Description\n",
        "item_desc_list = item_soup.find('li', id=\"prodDesc\").find('div',attrs={'class':'view-more-content__height'}).find_all(['li','p'])\n",
        "item_desc_list_formatted = [desc.getText() for desc in item_desc_list]\n",
        "item_desc_string = ', '.join(item_desc_list_formatted)\n",
        "item_dict[\"textFeatures\"][\"description\"] = item_desc_string"
      ],
      "execution_count": null,
      "outputs": []
    },
    {
      "cell_type": "code",
      "metadata": {
        "id": "HheQhizTrXA_",
        "colab_type": "code",
        "colab": {}
      },
      "source": [
        "# Get Ingredients\n",
        "item_ingrd = item_soup.find('li', id=\"Ingredients\").find('span').getText()\n",
        "item_dict[\"textFeatures\"][\"ingredients\"] = item_ingrd"
      ],
      "execution_count": null,
      "outputs": []
    },
    {
      "cell_type": "code",
      "metadata": {
        "id": "n2CWNcV6rxHh",
        "colab_type": "code",
        "colab": {}
      },
      "source": [
        "# Get Nutrional Information\n",
        "def format_nutri_servings_info(bs_div_item):\n",
        "  full_str = bs_div_item.getText()\n",
        "  key = bs_div_item.strong.getText().strip()\n",
        "  val = full_str.lstrip(key).strip()\n",
        "  return \"{}: {}\".format(key,val)\n",
        "\n",
        "def format_nutri_body_info(bs_tr_item):\n",
        "  intended_content = bs_tr_item.find('td')\n",
        "  full_str = intended_content.getText()\n",
        "  key = intended_content.strong.getText().strip()\n",
        "  val = full_str.lstrip(key).strip()\n",
        "  return \"{}: {}\".format(key,val)\n",
        "\n",
        "item_nutri_list = []\n",
        "item_nutri = item_soup.find('div',attrs={'class':'table-container nutrition'})\n",
        "item_nutri_servings = item_nutri.find_all('div')\n",
        "item_nutri_servings_formatted = [format_nutri_servings_info(item_s) for item_s in item_nutri_servings]\n",
        "print(item_nutri_servings_formatted)\n",
        "\n",
        "item_nutri_body = item_nutri.find('tbody').find_all('tr')\n",
        "item_nutri_body_formatted = [format_nutri_body_info(item_s) for item_s in item_nutri_body]\n",
        "print(item_nutri_body_formatted)\n",
        "\n",
        "item_nutri_list = item_nutri_list + item_nutri_servings_formatted + item_nutri_body_formatted\n",
        "print(item_nutri_list)\n",
        "\n",
        "item_dict[\"textFeatures\"][\"nutritionInformation\"] = {\"values\":item_nutri_list}"
      ],
      "execution_count": null,
      "outputs": []
    },
    {
      "cell_type": "code",
      "metadata": {
        "id": "lqIfUeAAiTXW",
        "colab_type": "code",
        "colab": {
          "base_uri": "https://localhost:8080/",
          "height": 51
        },
        "outputId": "93a9dac5-4e50-4ee1-dff7-f404918ed7e7"
      },
      "source": [
        "# Get Product ID\n",
        "# UPC no. if available, if not product id\n",
        "item_upc = item_soup.find('p',attrs={'class':'universal-Item-code'}).getText()\n",
        "item_upc=\"\".join(item_upc.replace(\":\",\"\").split())\n",
        "print(item_upc)\n",
        "item_code = item_soup.find('p',attrs={'class':'universal-product-code'}).getText()\n",
        "item_code = item_code.split()[-1]\n",
        "print(item_code)"
      ],
      "execution_count": null,
      "outputs": [
        {
          "output_type": "stream",
          "text": [
            "UPC04400004250\n",
            "918167\n"
          ],
          "name": "stdout"
        }
      ]
    },
    {
      "cell_type": "code",
      "metadata": {
        "id": "89MNBNP6l8Am",
        "colab_type": "code",
        "colab": {
          "base_uri": "https://localhost:8080/",
          "height": 35
        },
        "outputId": "1bd308b6-1e93-4685-b9a7-7b4f62021cfe"
      },
      "source": [
        "import re\n",
        "prod_id = item1_url.split('/')[-1]\n",
        "prod_id_formatted = re.split('=|-',prod_id )[1]\n",
        "prod_id_formatted"
      ],
      "execution_count": null,
      "outputs": [
        {
          "output_type": "execute_result",
          "data": {
            "application/vnd.google.colaboratory.intrinsic+json": {
              "type": "string"
            },
            "text/plain": [
              "'prod6296304'"
            ]
          },
          "metadata": {
            "tags": []
          },
          "execution_count": 33
        }
      ]
    },
    {
      "cell_type": "markdown",
      "metadata": {
        "id": "7Fuv8o_ckW2l",
        "colab_type": "text"
      },
      "source": [
        "Further formatting of Description text"
      ]
    },
    {
      "cell_type": "code",
      "metadata": {
        "id": "u0ZWrdEWBgUt",
        "colab_type": "code",
        "colab": {
          "base_uri": "https://localhost:8080/",
          "height": 34
        },
        "outputId": "76c7d9ba-08f6-4201-fecb-0b20e31c375b"
      },
      "source": [
        "samplestr =\"ted\\u00a0& Approve.*\\u00a0 Patented Fermentation Process.\\u00a0 \\\"All-Natural\\\".\\u00a0 Non-GMO., This\"\n",
        "#samplestr_formatted = samplestr.replace(\"\\u00a0A\", \" \")\n",
        "#samplestr_formatted = samplestr_formatted.replace(\"\\\\\", \" \")\n",
        "samplestr_formatted = \"\".join(re.split('\\u00a0A|..',samplestr ))\n",
        "print(samplestr_formatted)"
      ],
      "execution_count": null,
      "outputs": [
        {
          "output_type": "stream",
          "text": [
            "s\n"
          ],
          "name": "stdout"
        }
      ]
    }
  ]
}